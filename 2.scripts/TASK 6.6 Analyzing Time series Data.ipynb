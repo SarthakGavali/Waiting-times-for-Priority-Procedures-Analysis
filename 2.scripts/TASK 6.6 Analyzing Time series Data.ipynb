{
 "cells": [
  {
   "cell_type": "markdown",
   "id": "704709e5",
   "metadata": {},
   "source": [
    "# TASK 6.6 : Analyzing Time series Data"
   ]
  },
  {
   "cell_type": "markdown",
   "id": "f963f834",
   "metadata": {},
   "source": [
    "### This script contains:\n",
    "#### 1. Importing Libraries and Data\n",
    "#### 2. subsetting,wrangling and cleaning time series data\n",
    "#### 3.Time series Analysis \n",
    "#### 4. Testing for stationarity"
   ]
  },
  {
   "cell_type": "markdown",
   "id": "22e6e184",
   "metadata": {},
   "source": [
    "### 1. Importing Libraries and Data"
   ]
  },
  {
   "cell_type": "code",
   "execution_count": 1,
   "id": "f863f38f",
   "metadata": {},
   "outputs": [],
   "source": [
    "import quandl\n",
    "import pandas as pd\n",
    "import numpy as np\n",
    "import seaborn as sns\n",
    "import matplotlib\n",
    "import matplotlib.pyplot as plt\n",
    "import statsmodels.api as sm # Using .api imports the public access version of statsmodels, which is a library that handles \n",
    "# statistical models.\n",
    "import os\n",
    "import warnings # This is a library that handles warnings.\n",
    "\n",
    "warnings.filterwarnings(\"ignore\") # Disable deprecation warnings that could indicate, for instance, a suspended library or \n",
    "# feature. These are more relevant to developers and very seldom to analysts.\n",
    "\n",
    "plt.style.use('fivethirtyeight') # This is a styling option for how your plots will appear. More examples here:\n",
    "# https://matplotlib.org/3.2.1/tutorials/introductory/customizing.html\n",
    "# https://matplotlib.org/3.1.0/gallery/style_sheets/fivethirtyeight.html"
   ]
  },
  {
   "cell_type": "code",
   "execution_count": 2,
   "id": "a393e602",
   "metadata": {},
   "outputs": [],
   "source": [
    "# Defining path\n",
    "path = r'C:\\Users\\user\\Waiting times for priority procedures'\n"
   ]
  },
  {
   "cell_type": "code",
   "execution_count": 3,
   "id": "f270f180",
   "metadata": {},
   "outputs": [
    {
     "data": {
      "text/plain": [
       "'C:\\\\Users\\\\user\\\\Waiting times for priority procedures'"
      ]
     },
     "execution_count": 3,
     "metadata": {},
     "output_type": "execute_result"
    }
   ],
   "source": [
    "path"
   ]
  },
  {
   "cell_type": "code",
   "execution_count": 4,
   "id": "cfcb27cc",
   "metadata": {},
   "outputs": [],
   "source": [
    "# importing data\n",
    "df = pd.read_csv(os.path.join(path,'1.Data', 'Prepared data','waiting time cataract surgery.csv' ))"
   ]
  },
  {
   "cell_type": "code",
   "execution_count": 27,
   "id": "8869cce5",
   "metadata": {},
   "outputs": [
    {
     "data": {
      "text/html": [
       "<div>\n",
       "<style scoped>\n",
       "    .dataframe tbody tr th:only-of-type {\n",
       "        vertical-align: middle;\n",
       "    }\n",
       "\n",
       "    .dataframe tbody tr th {\n",
       "        vertical-align: top;\n",
       "    }\n",
       "\n",
       "    .dataframe thead th {\n",
       "        text-align: right;\n",
       "    }\n",
       "</style>\n",
       "<table border=\"1\" class=\"dataframe\">\n",
       "  <thead>\n",
       "    <tr style=\"text-align: right;\">\n",
       "      <th></th>\n",
       "      <th>state</th>\n",
       "      <th>medical_procedure</th>\n",
       "      <th>year</th>\n",
       "      <th>%meeting_benchmark</th>\n",
       "      <th>50th_percentile_days</th>\n",
       "      <th>90th_percentile_days</th>\n",
       "      <th>total_cases</th>\n",
       "    </tr>\n",
       "  </thead>\n",
       "  <tbody>\n",
       "    <tr>\n",
       "      <th>0</th>\n",
       "      <td>Canada</td>\n",
       "      <td>Cataract Surgery</td>\n",
       "      <td>2010</td>\n",
       "      <td>82.72</td>\n",
       "      <td>52</td>\n",
       "      <td>147</td>\n",
       "      <td>157278</td>\n",
       "    </tr>\n",
       "    <tr>\n",
       "      <th>1</th>\n",
       "      <td>Canada</td>\n",
       "      <td>Cataract Surgery</td>\n",
       "      <td>2011</td>\n",
       "      <td>82.48</td>\n",
       "      <td>49</td>\n",
       "      <td>149</td>\n",
       "      <td>161524</td>\n",
       "    </tr>\n",
       "    <tr>\n",
       "      <th>2</th>\n",
       "      <td>Canada</td>\n",
       "      <td>Cataract Surgery</td>\n",
       "      <td>2012</td>\n",
       "      <td>83.32</td>\n",
       "      <td>47</td>\n",
       "      <td>145</td>\n",
       "      <td>166596</td>\n",
       "    </tr>\n",
       "    <tr>\n",
       "      <th>3</th>\n",
       "      <td>Canada</td>\n",
       "      <td>Cataract Surgery</td>\n",
       "      <td>2013</td>\n",
       "      <td>81.37</td>\n",
       "      <td>47</td>\n",
       "      <td>154</td>\n",
       "      <td>170160</td>\n",
       "    </tr>\n",
       "    <tr>\n",
       "      <th>4</th>\n",
       "      <td>Canada</td>\n",
       "      <td>Cataract Surgery</td>\n",
       "      <td>2014</td>\n",
       "      <td>80.12</td>\n",
       "      <td>49</td>\n",
       "      <td>161</td>\n",
       "      <td>168072</td>\n",
       "    </tr>\n",
       "  </tbody>\n",
       "</table>\n",
       "</div>"
      ],
      "text/plain": [
       "    state medical_procedure  year  %meeting_benchmark  50th_percentile_days  \\\n",
       "0  Canada  Cataract Surgery  2010               82.72                    52   \n",
       "1  Canada  Cataract Surgery  2011               82.48                    49   \n",
       "2  Canada  Cataract Surgery  2012               83.32                    47   \n",
       "3  Canada  Cataract Surgery  2013               81.37                    47   \n",
       "4  Canada  Cataract Surgery  2014               80.12                    49   \n",
       "\n",
       "   90th_percentile_days  total_cases  \n",
       "0                   147       157278  \n",
       "1                   149       161524  \n",
       "2                   145       166596  \n",
       "3                   154       170160  \n",
       "4                   161       168072  "
      ]
     },
     "execution_count": 27,
     "metadata": {},
     "output_type": "execute_result"
    }
   ],
   "source": [
    "df.head()"
   ]
  },
  {
   "cell_type": "code",
   "execution_count": 5,
   "id": "0cccc08f",
   "metadata": {},
   "outputs": [],
   "source": [
    "# subsetting the data\n",
    "df_sub = df[['year','%meeting_benchmark','50th_percentile_days','90th_percentile_days','total_cases']]\n"
   ]
  },
  {
   "cell_type": "code",
   "execution_count": 6,
   "id": "30623444",
   "metadata": {},
   "outputs": [
    {
     "data": {
      "text/html": [
       "<div>\n",
       "<style scoped>\n",
       "    .dataframe tbody tr th:only-of-type {\n",
       "        vertical-align: middle;\n",
       "    }\n",
       "\n",
       "    .dataframe tbody tr th {\n",
       "        vertical-align: top;\n",
       "    }\n",
       "\n",
       "    .dataframe thead th {\n",
       "        text-align: right;\n",
       "    }\n",
       "</style>\n",
       "<table border=\"1\" class=\"dataframe\">\n",
       "  <thead>\n",
       "    <tr style=\"text-align: right;\">\n",
       "      <th></th>\n",
       "      <th>year</th>\n",
       "      <th>%meeting_benchmark</th>\n",
       "      <th>50th_percentile_days</th>\n",
       "      <th>90th_percentile_days</th>\n",
       "      <th>total_cases</th>\n",
       "    </tr>\n",
       "  </thead>\n",
       "  <tbody>\n",
       "    <tr>\n",
       "      <th>0</th>\n",
       "      <td>2010</td>\n",
       "      <td>82.72</td>\n",
       "      <td>52</td>\n",
       "      <td>147</td>\n",
       "      <td>157278</td>\n",
       "    </tr>\n",
       "    <tr>\n",
       "      <th>1</th>\n",
       "      <td>2011</td>\n",
       "      <td>82.48</td>\n",
       "      <td>49</td>\n",
       "      <td>149</td>\n",
       "      <td>161524</td>\n",
       "    </tr>\n",
       "    <tr>\n",
       "      <th>2</th>\n",
       "      <td>2012</td>\n",
       "      <td>83.32</td>\n",
       "      <td>47</td>\n",
       "      <td>145</td>\n",
       "      <td>166596</td>\n",
       "    </tr>\n",
       "    <tr>\n",
       "      <th>3</th>\n",
       "      <td>2013</td>\n",
       "      <td>81.37</td>\n",
       "      <td>47</td>\n",
       "      <td>154</td>\n",
       "      <td>170160</td>\n",
       "    </tr>\n",
       "    <tr>\n",
       "      <th>4</th>\n",
       "      <td>2014</td>\n",
       "      <td>80.12</td>\n",
       "      <td>49</td>\n",
       "      <td>161</td>\n",
       "      <td>168072</td>\n",
       "    </tr>\n",
       "  </tbody>\n",
       "</table>\n",
       "</div>"
      ],
      "text/plain": [
       "   year  %meeting_benchmark  50th_percentile_days  90th_percentile_days  \\\n",
       "0  2010               82.72                    52                   147   \n",
       "1  2011               82.48                    49                   149   \n",
       "2  2012               83.32                    47                   145   \n",
       "3  2013               81.37                    47                   154   \n",
       "4  2014               80.12                    49                   161   \n",
       "\n",
       "   total_cases  \n",
       "0       157278  \n",
       "1       161524  \n",
       "2       166596  \n",
       "3       170160  \n",
       "4       168072  "
      ]
     },
     "execution_count": 6,
     "metadata": {},
     "output_type": "execute_result"
    }
   ],
   "source": [
    "df_sub.head()"
   ]
  },
  {
   "cell_type": "code",
   "execution_count": 7,
   "id": "4848f7be",
   "metadata": {},
   "outputs": [
    {
     "data": {
      "text/html": [
       "<div>\n",
       "<style scoped>\n",
       "    .dataframe tbody tr th:only-of-type {\n",
       "        vertical-align: middle;\n",
       "    }\n",
       "\n",
       "    .dataframe tbody tr th {\n",
       "        vertical-align: top;\n",
       "    }\n",
       "\n",
       "    .dataframe thead th {\n",
       "        text-align: right;\n",
       "    }\n",
       "</style>\n",
       "<table border=\"1\" class=\"dataframe\">\n",
       "  <thead>\n",
       "    <tr style=\"text-align: right;\">\n",
       "      <th></th>\n",
       "      <th>year</th>\n",
       "      <th>%meeting_benchmark</th>\n",
       "      <th>50th_percentile_days</th>\n",
       "      <th>90th_percentile_days</th>\n",
       "      <th>total_cases</th>\n",
       "    </tr>\n",
       "  </thead>\n",
       "  <tbody>\n",
       "    <tr>\n",
       "      <th>7</th>\n",
       "      <td>2017</td>\n",
       "      <td>70.89</td>\n",
       "      <td>66</td>\n",
       "      <td>211</td>\n",
       "      <td>169667</td>\n",
       "    </tr>\n",
       "    <tr>\n",
       "      <th>8</th>\n",
       "      <td>2018</td>\n",
       "      <td>70.10</td>\n",
       "      <td>65</td>\n",
       "      <td>218</td>\n",
       "      <td>177463</td>\n",
       "    </tr>\n",
       "    <tr>\n",
       "      <th>9</th>\n",
       "      <td>2019</td>\n",
       "      <td>70.48</td>\n",
       "      <td>67</td>\n",
       "      <td>219</td>\n",
       "      <td>183017</td>\n",
       "    </tr>\n",
       "    <tr>\n",
       "      <th>10</th>\n",
       "      <td>2020</td>\n",
       "      <td>44.91</td>\n",
       "      <td>133</td>\n",
       "      <td>310</td>\n",
       "      <td>96706</td>\n",
       "    </tr>\n",
       "    <tr>\n",
       "      <th>11</th>\n",
       "      <td>2021</td>\n",
       "      <td>66.18</td>\n",
       "      <td>72</td>\n",
       "      <td>255</td>\n",
       "      <td>164083</td>\n",
       "    </tr>\n",
       "  </tbody>\n",
       "</table>\n",
       "</div>"
      ],
      "text/plain": [
       "    year  %meeting_benchmark  50th_percentile_days  90th_percentile_days  \\\n",
       "7   2017               70.89                    66                   211   \n",
       "8   2018               70.10                    65                   218   \n",
       "9   2019               70.48                    67                   219   \n",
       "10  2020               44.91                   133                   310   \n",
       "11  2021               66.18                    72                   255   \n",
       "\n",
       "    total_cases  \n",
       "7        169667  \n",
       "8        177463  \n",
       "9        183017  \n",
       "10        96706  \n",
       "11       164083  "
      ]
     },
     "execution_count": 7,
     "metadata": {},
     "output_type": "execute_result"
    }
   ],
   "source": [
    "df_sub.tail()"
   ]
  },
  {
   "cell_type": "code",
   "execution_count": 8,
   "id": "53c95a9d",
   "metadata": {},
   "outputs": [],
   "source": [
    "#changing the column heads\n",
    "df_sub.rename(columns = {'50th_percentile_days':'med_wait_days','90th_percentile_days':'max_wait_days'},inplace = True)"
   ]
  },
  {
   "cell_type": "code",
   "execution_count": 9,
   "id": "ebc6f954",
   "metadata": {},
   "outputs": [
    {
     "data": {
      "text/html": [
       "<div>\n",
       "<style scoped>\n",
       "    .dataframe tbody tr th:only-of-type {\n",
       "        vertical-align: middle;\n",
       "    }\n",
       "\n",
       "    .dataframe tbody tr th {\n",
       "        vertical-align: top;\n",
       "    }\n",
       "\n",
       "    .dataframe thead th {\n",
       "        text-align: right;\n",
       "    }\n",
       "</style>\n",
       "<table border=\"1\" class=\"dataframe\">\n",
       "  <thead>\n",
       "    <tr style=\"text-align: right;\">\n",
       "      <th></th>\n",
       "      <th>year</th>\n",
       "      <th>%meeting_benchmark</th>\n",
       "      <th>med_wait_days</th>\n",
       "      <th>max_wait_days</th>\n",
       "      <th>total_cases</th>\n",
       "    </tr>\n",
       "  </thead>\n",
       "  <tbody>\n",
       "    <tr>\n",
       "      <th>0</th>\n",
       "      <td>2010</td>\n",
       "      <td>82.72</td>\n",
       "      <td>52</td>\n",
       "      <td>147</td>\n",
       "      <td>157278</td>\n",
       "    </tr>\n",
       "    <tr>\n",
       "      <th>1</th>\n",
       "      <td>2011</td>\n",
       "      <td>82.48</td>\n",
       "      <td>49</td>\n",
       "      <td>149</td>\n",
       "      <td>161524</td>\n",
       "    </tr>\n",
       "    <tr>\n",
       "      <th>2</th>\n",
       "      <td>2012</td>\n",
       "      <td>83.32</td>\n",
       "      <td>47</td>\n",
       "      <td>145</td>\n",
       "      <td>166596</td>\n",
       "    </tr>\n",
       "    <tr>\n",
       "      <th>3</th>\n",
       "      <td>2013</td>\n",
       "      <td>81.37</td>\n",
       "      <td>47</td>\n",
       "      <td>154</td>\n",
       "      <td>170160</td>\n",
       "    </tr>\n",
       "    <tr>\n",
       "      <th>4</th>\n",
       "      <td>2014</td>\n",
       "      <td>80.12</td>\n",
       "      <td>49</td>\n",
       "      <td>161</td>\n",
       "      <td>168072</td>\n",
       "    </tr>\n",
       "  </tbody>\n",
       "</table>\n",
       "</div>"
      ],
      "text/plain": [
       "   year  %meeting_benchmark  med_wait_days  max_wait_days  total_cases\n",
       "0  2010               82.72             52            147       157278\n",
       "1  2011               82.48             49            149       161524\n",
       "2  2012               83.32             47            145       166596\n",
       "3  2013               81.37             47            154       170160\n",
       "4  2014               80.12             49            161       168072"
      ]
     },
     "execution_count": 9,
     "metadata": {},
     "output_type": "execute_result"
    }
   ],
   "source": [
    "df_sub.head()"
   ]
  },
  {
   "cell_type": "code",
   "execution_count": 10,
   "id": "ab54c850",
   "metadata": {},
   "outputs": [
    {
     "data": {
      "text/plain": [
       "(12, 5)"
      ]
     },
     "execution_count": 10,
     "metadata": {},
     "output_type": "execute_result"
    }
   ],
   "source": [
    "df_sub.shape"
   ]
  },
  {
   "cell_type": "code",
   "execution_count": 11,
   "id": "1817ede7",
   "metadata": {},
   "outputs": [
    {
     "data": {
      "text/plain": [
       "Index(['year', '%meeting_benchmark', 'med_wait_days', 'max_wait_days',\n",
       "       'total_cases'],\n",
       "      dtype='object')"
      ]
     },
     "execution_count": 11,
     "metadata": {},
     "output_type": "execute_result"
    }
   ],
   "source": [
    "df_sub.columns"
   ]
  },
  {
   "cell_type": "code",
   "execution_count": 12,
   "id": "ea6cc0d1",
   "metadata": {},
   "outputs": [
    {
     "data": {
      "text/plain": [
       "pandas.core.frame.DataFrame"
      ]
     },
     "execution_count": 12,
     "metadata": {},
     "output_type": "execute_result"
    }
   ],
   "source": [
    "type(df_sub)"
   ]
  },
  {
   "cell_type": "code",
   "execution_count": 13,
   "id": "e2aab79c",
   "metadata": {},
   "outputs": [
    {
     "data": {
      "text/plain": [
       "[<matplotlib.lines.Line2D at 0x21c57420640>,\n",
       " <matplotlib.lines.Line2D at 0x21c574206a0>,\n",
       " <matplotlib.lines.Line2D at 0x21c574207c0>,\n",
       " <matplotlib.lines.Line2D at 0x21c574208e0>,\n",
       " <matplotlib.lines.Line2D at 0x21c57420a00>]"
      ]
     },
     "execution_count": 13,
     "metadata": {},
     "output_type": "execute_result"
    },
    {
     "data": {
      "image/png": "[encoded data removed]",
      "text/plain": [
       "<Figure size 1500x500 with 1 Axes>"
      ]
     },
     "metadata": {},
     "output_type": "display_data"
    }
   ],
   "source": [
    "# Plot the data using matplotlib.\n",
    "\n",
    "plt.figure(figsize=(15,5), dpi=100) # The dpi argument controls the quality of the visualization here. When it's set to 100,\n",
    "# it will produce lower-than-standard quality, which is useful if, similar to this notebook, you'll have a lot of plots.\n",
    "# A large number of plots will increase the size of the notebook, which could take more time to load and eat up a lot of RAM!\n",
    "\n",
    "plt.plot(df_sub)"
   ]
  },
  {
   "cell_type": "code",
   "execution_count": 19,
   "id": "4d7d39e3",
   "metadata": {},
   "outputs": [],
   "source": [
    "# Set index as year\n",
    "df_ind = df_sub.set_index('year')\n"
   ]
  },
  {
   "cell_type": "code",
   "execution_count": 20,
   "id": "c43d88bb",
   "metadata": {},
   "outputs": [
    {
     "data": {
      "text/html": [
       "<div>\n",
       "<style scoped>\n",
       "    .dataframe tbody tr th:only-of-type {\n",
       "        vertical-align: middle;\n",
       "    }\n",
       "\n",
       "    .dataframe tbody tr th {\n",
       "        vertical-align: top;\n",
       "    }\n",
       "\n",
       "    .dataframe thead th {\n",
       "        text-align: right;\n",
       "    }\n",
       "</style>\n",
       "<table border=\"1\" class=\"dataframe\">\n",
       "  <thead>\n",
       "    <tr style=\"text-align: right;\">\n",
       "      <th></th>\n",
       "      <th>%meeting_benchmark</th>\n",
       "      <th>med_wait_days</th>\n",
       "      <th>max_wait_days</th>\n",
       "      <th>total_cases</th>\n",
       "    </tr>\n",
       "    <tr>\n",
       "      <th>year</th>\n",
       "      <th></th>\n",
       "      <th></th>\n",
       "      <th></th>\n",
       "      <th></th>\n",
       "    </tr>\n",
       "  </thead>\n",
       "  <tbody>\n",
       "    <tr>\n",
       "      <th>2010</th>\n",
       "      <td>82.72</td>\n",
       "      <td>52</td>\n",
       "      <td>147</td>\n",
       "      <td>157278</td>\n",
       "    </tr>\n",
       "    <tr>\n",
       "      <th>2011</th>\n",
       "      <td>82.48</td>\n",
       "      <td>49</td>\n",
       "      <td>149</td>\n",
       "      <td>161524</td>\n",
       "    </tr>\n",
       "    <tr>\n",
       "      <th>2012</th>\n",
       "      <td>83.32</td>\n",
       "      <td>47</td>\n",
       "      <td>145</td>\n",
       "      <td>166596</td>\n",
       "    </tr>\n",
       "    <tr>\n",
       "      <th>2013</th>\n",
       "      <td>81.37</td>\n",
       "      <td>47</td>\n",
       "      <td>154</td>\n",
       "      <td>170160</td>\n",
       "    </tr>\n",
       "    <tr>\n",
       "      <th>2014</th>\n",
       "      <td>80.12</td>\n",
       "      <td>49</td>\n",
       "      <td>161</td>\n",
       "      <td>168072</td>\n",
       "    </tr>\n",
       "  </tbody>\n",
       "</table>\n",
       "</div>"
      ],
      "text/plain": [
       "      %meeting_benchmark  med_wait_days  max_wait_days  total_cases\n",
       "year                                                               \n",
       "2010               82.72             52            147       157278\n",
       "2011               82.48             49            149       161524\n",
       "2012               83.32             47            145       166596\n",
       "2013               81.37             47            154       170160\n",
       "2014               80.12             49            161       168072"
      ]
     },
     "execution_count": 20,
     "metadata": {},
     "output_type": "execute_result"
    }
   ],
   "source": [
    "df_ind.head()"
   ]
  },
  {
   "cell_type": "code",
   "execution_count": 22,
   "id": "8071725d",
   "metadata": {},
   "outputs": [
    {
     "data": {
      "text/plain": [
       "[<matplotlib.lines.Line2D at 0x21c57503c10>,\n",
       " <matplotlib.lines.Line2D at 0x21c57503cd0>,\n",
       " <matplotlib.lines.Line2D at 0x21c57503e20>,\n",
       " <matplotlib.lines.Line2D at 0x21c57503f40>]"
      ]
     },
     "execution_count": 22,
     "metadata": {},
     "output_type": "execute_result"
    },
    {
     "data": {
      "image/png": "[encoded data removed]",
      "text/plain": [
       "<Figure size 1500x500 with 1 Axes>"
      ]
     },
     "metadata": {},
     "output_type": "display_data"
    }
   ],
   "source": [
    "# Plot the new data set\n",
    "\n",
    "plt.figure(figsize=(15,5), dpi=100)\n",
    "plt.plot(df_ind)"
   ]
  },
  {
   "cell_type": "markdown",
   "id": "336c5081",
   "metadata": {},
   "source": [
    "### From the chart it is clear that the total cataract surgery cases have stayed almost constant over the years.\n",
    "### However the total cataract surgeries performed fell drastically in 2019 and were the lowest in 2020 which is the period of covid pandemic probably because high risk of covid infection through the eye."
   ]
  },
  {
   "cell_type": "code",
   "execution_count": 27,
   "id": "04b65871",
   "metadata": {},
   "outputs": [],
   "source": [
    "#Subseting df ind to get time series for \"wait times\"\n",
    "df_wait = df_sub[['year','med_wait_days']]"
   ]
  },
  {
   "cell_type": "code",
   "execution_count": 28,
   "id": "f6911c27",
   "metadata": {},
   "outputs": [
    {
     "data": {
      "text/html": [
       "<div>\n",
       "<style scoped>\n",
       "    .dataframe tbody tr th:only-of-type {\n",
       "        vertical-align: middle;\n",
       "    }\n",
       "\n",
       "    .dataframe tbody tr th {\n",
       "        vertical-align: top;\n",
       "    }\n",
       "\n",
       "    .dataframe thead th {\n",
       "        text-align: right;\n",
       "    }\n",
       "</style>\n",
       "<table border=\"1\" class=\"dataframe\">\n",
       "  <thead>\n",
       "    <tr style=\"text-align: right;\">\n",
       "      <th></th>\n",
       "      <th>year</th>\n",
       "      <th>med_wait_days</th>\n",
       "    </tr>\n",
       "  </thead>\n",
       "  <tbody>\n",
       "    <tr>\n",
       "      <th>0</th>\n",
       "      <td>2010</td>\n",
       "      <td>52</td>\n",
       "    </tr>\n",
       "    <tr>\n",
       "      <th>1</th>\n",
       "      <td>2011</td>\n",
       "      <td>49</td>\n",
       "    </tr>\n",
       "    <tr>\n",
       "      <th>2</th>\n",
       "      <td>2012</td>\n",
       "      <td>47</td>\n",
       "    </tr>\n",
       "    <tr>\n",
       "      <th>3</th>\n",
       "      <td>2013</td>\n",
       "      <td>47</td>\n",
       "    </tr>\n",
       "    <tr>\n",
       "      <th>4</th>\n",
       "      <td>2014</td>\n",
       "      <td>49</td>\n",
       "    </tr>\n",
       "  </tbody>\n",
       "</table>\n",
       "</div>"
      ],
      "text/plain": [
       "   year  med_wait_days\n",
       "0  2010             52\n",
       "1  2011             49\n",
       "2  2012             47\n",
       "3  2013             47\n",
       "4  2014             49"
      ]
     },
     "execution_count": 28,
     "metadata": {},
     "output_type": "execute_result"
    }
   ],
   "source": [
    "df_wait.head()"
   ]
  },
  {
   "cell_type": "code",
   "execution_count": 31,
   "id": "8b878bf2",
   "metadata": {},
   "outputs": [],
   "source": [
    "# indexing year\n",
    "df_w = df_wait.set_index('year')"
   ]
  },
  {
   "cell_type": "code",
   "execution_count": 32,
   "id": "371898b7",
   "metadata": {},
   "outputs": [
    {
     "data": {
      "text/html": [
       "<div>\n",
       "<style scoped>\n",
       "    .dataframe tbody tr th:only-of-type {\n",
       "        vertical-align: middle;\n",
       "    }\n",
       "\n",
       "    .dataframe tbody tr th {\n",
       "        vertical-align: top;\n",
       "    }\n",
       "\n",
       "    .dataframe thead th {\n",
       "        text-align: right;\n",
       "    }\n",
       "</style>\n",
       "<table border=\"1\" class=\"dataframe\">\n",
       "  <thead>\n",
       "    <tr style=\"text-align: right;\">\n",
       "      <th></th>\n",
       "      <th>med_wait_days</th>\n",
       "    </tr>\n",
       "    <tr>\n",
       "      <th>year</th>\n",
       "      <th></th>\n",
       "    </tr>\n",
       "  </thead>\n",
       "  <tbody>\n",
       "    <tr>\n",
       "      <th>2010</th>\n",
       "      <td>52</td>\n",
       "    </tr>\n",
       "    <tr>\n",
       "      <th>2011</th>\n",
       "      <td>49</td>\n",
       "    </tr>\n",
       "    <tr>\n",
       "      <th>2012</th>\n",
       "      <td>47</td>\n",
       "    </tr>\n",
       "    <tr>\n",
       "      <th>2013</th>\n",
       "      <td>47</td>\n",
       "    </tr>\n",
       "    <tr>\n",
       "      <th>2014</th>\n",
       "      <td>49</td>\n",
       "    </tr>\n",
       "  </tbody>\n",
       "</table>\n",
       "</div>"
      ],
      "text/plain": [
       "      med_wait_days\n",
       "year               \n",
       "2010             52\n",
       "2011             49\n",
       "2012             47\n",
       "2013             47\n",
       "2014             49"
      ]
     },
     "execution_count": 32,
     "metadata": {},
     "output_type": "execute_result"
    }
   ],
   "source": [
    "df_w.head()"
   ]
  },
  {
   "cell_type": "code",
   "execution_count": 33,
   "id": "566ec1df",
   "metadata": {},
   "outputs": [
    {
     "data": {
      "text/plain": [
       "[<matplotlib.lines.Line2D at 0x21c5befb670>]"
      ]
     },
     "execution_count": 33,
     "metadata": {},
     "output_type": "execute_result"
    },
    {
     "data": {
      "image/png": "[encoded data removed]",
      "text/plain": [
       "<Figure size 1500x500 with 1 Axes>"
      ]
     },
     "metadata": {},
     "output_type": "display_data"
    }
   ],
   "source": [
    "# Plot the new data set\n",
    "\n",
    "plt.figure(figsize=(15,5), dpi=100)\n",
    "plt.plot(df_w)"
   ]
  },
  {
   "cell_type": "markdown",
   "id": "4a48a4e9",
   "metadata": {},
   "source": [
    "###  As is visible in the chart the median waiting time for cataract surgeries has stayed almost contant from 2010 -2014.\n",
    "### There is increase is a considerable increase between 2014-2016 upto 70 days after which it stayed almost constant up untill 2019 when a sudden spike can be seen in the waiting time, which corresponds to the covid pandemic.\n",
    "### 2020 recorded the highest waiting time of over 130 days and the least number of total cases(as shown in the previous time series)."
   ]
  },
  {
   "cell_type": "code",
   "execution_count": 37,
   "id": "47055e58",
   "metadata": {},
   "outputs": [
    {
     "data": {
      "image/png": "[encoded data removed]",
      "text/plain": [
       "<Figure size 432x288 with 1 Axes>"
      ]
     },
     "metadata": {},
     "output_type": "display_data"
    }
   ],
   "source": [
    "# Check out a plot of autocorrelations\n",
    "\n",
    "from statsmodels.graphics.tsaplots import plot_acf, plot_pacf # Here, you import the autocorrelation and partial correlation plots\n",
    "\n",
    "plot_acf(df_w)\n",
    "plt.show()"
   ]
  },
  {
   "cell_type": "markdown",
   "id": "df7e293d",
   "metadata": {},
   "source": [
    "### Since the dataset we used contains a single observation for every year, the question of seasonality, noise doesnot arise. Hence we have not perform the decomposition analysis on this dataset."
   ]
  },
  {
   "cell_type": "code",
   "execution_count": null,
   "id": "2dedd254",
   "metadata": {},
   "outputs": [],
   "source": []
  }
 ],
 "metadata": {
  "kernelspec": {
   "display_name": "Python 3 (ipykernel)",
   "language": "python",
   "name": "python3"
  },
  "language_info": {
   "codemirror_mode": {
    "name": "ipython",
    "version": 3
   },
   "file_extension": ".py",
   "mimetype": "text/x-python",
   "name": "python",
   "nbconvert_exporter": "python",
   "pygments_lexer": "ipython3",
   "version": "3.9.12"
  }
 },
 "nbformat": 4,
 "nbformat_minor": 5
}
