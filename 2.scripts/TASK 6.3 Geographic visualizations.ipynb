{
 "cells": [
  {
   "cell_type": "markdown",
   "id": "7df8c684",
   "metadata": {},
   "source": [
    "# GEOGRAPHIC VISUALIZATIONS"
   ]
  },
  {
   "cell_type": "markdown",
   "id": "24dcdb68",
   "metadata": {},
   "source": [
    "## This script contains the following:\n",
    "### 1. Importing data and libraries\n",
    "### 2. Data cleaning\n",
    "### 3. Data wrangling\n",
    "### 4. Plotting a Chloropleth"
   ]
  },
  {
   "cell_type": "markdown",
   "id": "8ddad84a",
   "metadata": {},
   "source": [
    "## 1. Importing Data Libraries"
   ]
  },
  {
   "cell_type": "code",
   "execution_count": 1,
   "id": "ad9aad31",
   "metadata": {},
   "outputs": [],
   "source": [
    "import pandas as pd\n",
    "import numpy as np\n",
    "import seaborn as sns\n",
    "import matplotlib\n",
    "import os\n",
    "import folium\n",
    "import json"
   ]
  },
  {
   "cell_type": "code",
   "execution_count": 2,
   "id": "36b3a08e",
   "metadata": {},
   "outputs": [],
   "source": [
    "# prompt matplotlib visuals to appear in Notebook\n",
    "%matplotlib inline"
   ]
  },
  {
   "cell_type": "code",
   "execution_count": 55,
   "id": "1a9df1be",
   "metadata": {},
   "outputs": [],
   "source": [
    "# import json file\n",
    "canada_geo = r'C:\\Users\\user\\Waiting times for priority procedures\\1.Data\\Original data\\canada_provinces.geo.json'"
   ]
  },
  {
   "cell_type": "code",
   "execution_count": 56,
   "id": "51a6d6a6",
   "metadata": {},
   "outputs": [
    {
     "data": {
      "text/plain": [
       "'C:\\\\Users\\\\user\\\\Waiting times for priority procedures\\\\1.Data\\\\Original data\\\\canada_provinces.geo.json'"
      ]
     },
     "execution_count": 56,
     "metadata": {},
     "output_type": "execute_result"
    }
   ],
   "source": [
    "canada_geo\n",
    "\n",
    "# add georef-canada-province file to the path.... added.....i think this is a different file. ok, let me see"
   ]
  },
  {
   "cell_type": "code",
   "execution_count": 62,
   "id": "a2bef233",
   "metadata": {},
   "outputs": [
    {
     "name": "stdout",
     "output_type": "stream",
     "text": [
      "British Columbia\n",
      "Newfoundland and Labrador\n",
      "Saskatchewan\n",
      "Quebec\n",
      "Alberta\n",
      "Manitoba\n",
      "Nova Scotia\n",
      "Ontario\n",
      "New Brunswick\n",
      "Prince Edward Island\n",
      "Yukon\n"
     ]
    }
   ],
   "source": [
    "import json\n",
    "\n",
    "f = open(canada_geo)\n",
    "\n",
    "data = json.load(f)\n",
    "\n",
    "for i in data['features']:\n",
    "    print(i['properties']['name'])\n",
    "    \n",
    "#'prov_name_en'  "
   ]
  },
  {
   "cell_type": "code",
   "execution_count": null,
   "id": "7c244c16",
   "metadata": {},
   "outputs": [],
   "source": [
    "#wait a bit please"
   ]
  },
  {
   "cell_type": "code",
   "execution_count": 63,
   "id": "bd8d916f",
   "metadata": {},
   "outputs": [],
   "source": [
    "# Defining the path for the data file\n",
    "path = r'C:\\Users\\user\\Waiting times for priority procedures\\1.Data'"
   ]
  },
  {
   "cell_type": "code",
   "execution_count": 64,
   "id": "8e05342e",
   "metadata": {},
   "outputs": [],
   "source": [
    "# importing datasets: \n",
    "# the entire dataset\n",
    "df_states = pd.read_csv(os.path.join(path,'Prepared data','wait_time_Transformed.csv'))"
   ]
  },
  {
   "cell_type": "code",
   "execution_count": 65,
   "id": "3bb819f9",
   "metadata": {},
   "outputs": [],
   "source": [
    "# the benchmarked procedure dataset\n",
    "df_bm= pd.read_csv(os.path.join(path,'prepared data','wait_time_benchmarked.csv'))"
   ]
  },
  {
   "cell_type": "markdown",
   "id": "e0007d9e",
   "metadata": {},
   "source": [
    "## 2. Data Wrangling"
   ]
  },
  {
   "cell_type": "code",
   "execution_count": 66,
   "id": "591faf08",
   "metadata": {},
   "outputs": [
    {
     "data": {
      "text/html": [
       "<div>\n",
       "<style scoped>\n",
       "    .dataframe tbody tr th:only-of-type {\n",
       "        vertical-align: middle;\n",
       "    }\n",
       "\n",
       "    .dataframe tbody tr th {\n",
       "        vertical-align: top;\n",
       "    }\n",
       "\n",
       "    .dataframe thead th {\n",
       "        text-align: right;\n",
       "    }\n",
       "</style>\n",
       "<table border=\"1\" class=\"dataframe\">\n",
       "  <thead>\n",
       "    <tr style=\"text-align: right;\">\n",
       "      <th></th>\n",
       "      <th>state</th>\n",
       "      <th>medical_procedure</th>\n",
       "      <th>year</th>\n",
       "      <th>%meeting_benchmark</th>\n",
       "      <th>50th_percentile_days</th>\n",
       "      <th>90th_percentile_days</th>\n",
       "      <th>total_cases</th>\n",
       "    </tr>\n",
       "  </thead>\n",
       "  <tbody>\n",
       "    <tr>\n",
       "      <th>0</th>\n",
       "      <td>Alberta</td>\n",
       "      <td>Bladder Cancer Surgery</td>\n",
       "      <td>2013</td>\n",
       "      <td>NA</td>\n",
       "      <td>28</td>\n",
       "      <td>57</td>\n",
       "      <td>477</td>\n",
       "    </tr>\n",
       "    <tr>\n",
       "      <th>1</th>\n",
       "      <td>Alberta</td>\n",
       "      <td>Bladder Cancer Surgery</td>\n",
       "      <td>2014</td>\n",
       "      <td>NA</td>\n",
       "      <td>29</td>\n",
       "      <td>64</td>\n",
       "      <td>488</td>\n",
       "    </tr>\n",
       "    <tr>\n",
       "      <th>2</th>\n",
       "      <td>Alberta</td>\n",
       "      <td>Bladder Cancer Surgery</td>\n",
       "      <td>2015</td>\n",
       "      <td>NA</td>\n",
       "      <td>28</td>\n",
       "      <td>70</td>\n",
       "      <td>542</td>\n",
       "    </tr>\n",
       "    <tr>\n",
       "      <th>3</th>\n",
       "      <td>Alberta</td>\n",
       "      <td>Bladder Cancer Surgery</td>\n",
       "      <td>2016</td>\n",
       "      <td>NA</td>\n",
       "      <td>30</td>\n",
       "      <td>70</td>\n",
       "      <td>448</td>\n",
       "    </tr>\n",
       "    <tr>\n",
       "      <th>4</th>\n",
       "      <td>Alberta</td>\n",
       "      <td>Bladder Cancer Surgery</td>\n",
       "      <td>2017</td>\n",
       "      <td>NA</td>\n",
       "      <td>30</td>\n",
       "      <td>69</td>\n",
       "      <td>573</td>\n",
       "    </tr>\n",
       "  </tbody>\n",
       "</table>\n",
       "</div>"
      ],
      "text/plain": [
       "     state       medical_procedure  year  \\\n",
       "0  Alberta  Bladder Cancer Surgery  2013   \n",
       "1  Alberta  Bladder Cancer Surgery  2014   \n",
       "2  Alberta  Bladder Cancer Surgery  2015   \n",
       "3  Alberta  Bladder Cancer Surgery  2016   \n",
       "4  Alberta  Bladder Cancer Surgery  2017   \n",
       "\n",
       "                      %meeting_benchmark  50th_percentile_days  \\\n",
       "0                                     NA                    28   \n",
       "1                                     NA                    29   \n",
       "2                                     NA                    28   \n",
       "3                                     NA                    30   \n",
       "4                                     NA                    30   \n",
       "\n",
       "   90th_percentile_days  total_cases  \n",
       "0                    57          477  \n",
       "1                    64          488  \n",
       "2                    70          542  \n",
       "3                    70          448  \n",
       "4                    69          573  "
      ]
     },
     "execution_count": 66,
     "metadata": {},
     "output_type": "execute_result"
    }
   ],
   "source": [
    "#checking the df_states dataset\n",
    "df_states.head()"
   ]
  },
  {
   "cell_type": "code",
   "execution_count": 67,
   "id": "5db423d6",
   "metadata": {},
   "outputs": [],
   "source": [
    "# changing column heads with more understandable names\n",
    "df_states.rename(columns = {'50th_percentile_days':'median_days','90th_percentile_days':'maximum_days'},inplace=True)\n",
    "df_bm.rename(columns = {'50th_percentile_days':'median_days','90th_percentile_days':'maximum_days'},inplace=True)"
   ]
  },
  {
   "cell_type": "code",
   "execution_count": 68,
   "id": "8b8de9c6",
   "metadata": {},
   "outputs": [
    {
     "data": {
      "text/html": [
       "<div>\n",
       "<style scoped>\n",
       "    .dataframe tbody tr th:only-of-type {\n",
       "        vertical-align: middle;\n",
       "    }\n",
       "\n",
       "    .dataframe tbody tr th {\n",
       "        vertical-align: top;\n",
       "    }\n",
       "\n",
       "    .dataframe thead th {\n",
       "        text-align: right;\n",
       "    }\n",
       "</style>\n",
       "<table border=\"1\" class=\"dataframe\">\n",
       "  <thead>\n",
       "    <tr style=\"text-align: right;\">\n",
       "      <th></th>\n",
       "      <th>state</th>\n",
       "      <th>medical_procedure</th>\n",
       "      <th>year</th>\n",
       "      <th>%meeting_benchmark</th>\n",
       "      <th>median_days</th>\n",
       "      <th>maximum_days</th>\n",
       "      <th>total_cases</th>\n",
       "    </tr>\n",
       "  </thead>\n",
       "  <tbody>\n",
       "    <tr>\n",
       "      <th>0</th>\n",
       "      <td>Alberta</td>\n",
       "      <td>Bladder Cancer Surgery</td>\n",
       "      <td>2013</td>\n",
       "      <td>NA</td>\n",
       "      <td>28</td>\n",
       "      <td>57</td>\n",
       "      <td>477</td>\n",
       "    </tr>\n",
       "    <tr>\n",
       "      <th>1</th>\n",
       "      <td>Alberta</td>\n",
       "      <td>Bladder Cancer Surgery</td>\n",
       "      <td>2014</td>\n",
       "      <td>NA</td>\n",
       "      <td>29</td>\n",
       "      <td>64</td>\n",
       "      <td>488</td>\n",
       "    </tr>\n",
       "    <tr>\n",
       "      <th>2</th>\n",
       "      <td>Alberta</td>\n",
       "      <td>Bladder Cancer Surgery</td>\n",
       "      <td>2015</td>\n",
       "      <td>NA</td>\n",
       "      <td>28</td>\n",
       "      <td>70</td>\n",
       "      <td>542</td>\n",
       "    </tr>\n",
       "    <tr>\n",
       "      <th>3</th>\n",
       "      <td>Alberta</td>\n",
       "      <td>Bladder Cancer Surgery</td>\n",
       "      <td>2016</td>\n",
       "      <td>NA</td>\n",
       "      <td>30</td>\n",
       "      <td>70</td>\n",
       "      <td>448</td>\n",
       "    </tr>\n",
       "    <tr>\n",
       "      <th>4</th>\n",
       "      <td>Alberta</td>\n",
       "      <td>Bladder Cancer Surgery</td>\n",
       "      <td>2017</td>\n",
       "      <td>NA</td>\n",
       "      <td>30</td>\n",
       "      <td>69</td>\n",
       "      <td>573</td>\n",
       "    </tr>\n",
       "  </tbody>\n",
       "</table>\n",
       "</div>"
      ],
      "text/plain": [
       "     state       medical_procedure  year  \\\n",
       "0  Alberta  Bladder Cancer Surgery  2013   \n",
       "1  Alberta  Bladder Cancer Surgery  2014   \n",
       "2  Alberta  Bladder Cancer Surgery  2015   \n",
       "3  Alberta  Bladder Cancer Surgery  2016   \n",
       "4  Alberta  Bladder Cancer Surgery  2017   \n",
       "\n",
       "                      %meeting_benchmark  median_days  maximum_days  \\\n",
       "0                                     NA           28            57   \n",
       "1                                     NA           29            64   \n",
       "2                                     NA           28            70   \n",
       "3                                     NA           30            70   \n",
       "4                                     NA           30            69   \n",
       "\n",
       "   total_cases  \n",
       "0          477  \n",
       "1          488  \n",
       "2          542  \n",
       "3          448  \n",
       "4          573  "
      ]
     },
     "execution_count": 68,
     "metadata": {},
     "output_type": "execute_result"
    }
   ],
   "source": [
    "#checking column heads\n",
    "df_states.head()"
   ]
  },
  {
   "cell_type": "code",
   "execution_count": 69,
   "id": "35486719",
   "metadata": {},
   "outputs": [
    {
     "data": {
      "text/html": [
       "<div>\n",
       "<style scoped>\n",
       "    .dataframe tbody tr th:only-of-type {\n",
       "        vertical-align: middle;\n",
       "    }\n",
       "\n",
       "    .dataframe tbody tr th {\n",
       "        vertical-align: top;\n",
       "    }\n",
       "\n",
       "    .dataframe thead th {\n",
       "        text-align: right;\n",
       "    }\n",
       "</style>\n",
       "<table border=\"1\" class=\"dataframe\">\n",
       "  <thead>\n",
       "    <tr style=\"text-align: right;\">\n",
       "      <th></th>\n",
       "      <th>state</th>\n",
       "      <th>medical_procedure</th>\n",
       "      <th>year</th>\n",
       "      <th>%meeting_benchmark</th>\n",
       "      <th>median_days</th>\n",
       "      <th>maximum_days</th>\n",
       "      <th>total_cases</th>\n",
       "    </tr>\n",
       "  </thead>\n",
       "  <tbody>\n",
       "    <tr>\n",
       "      <th>0</th>\n",
       "      <td>Alberta</td>\n",
       "      <td>CABG</td>\n",
       "      <td>2008</td>\n",
       "      <td>99.0</td>\n",
       "      <td>7</td>\n",
       "      <td>83</td>\n",
       "      <td>511</td>\n",
       "    </tr>\n",
       "    <tr>\n",
       "      <th>1</th>\n",
       "      <td>Alberta</td>\n",
       "      <td>CABG</td>\n",
       "      <td>2009</td>\n",
       "      <td>93.0</td>\n",
       "      <td>17</td>\n",
       "      <td>156</td>\n",
       "      <td>665</td>\n",
       "    </tr>\n",
       "    <tr>\n",
       "      <th>2</th>\n",
       "      <td>Alberta</td>\n",
       "      <td>CABG</td>\n",
       "      <td>2010</td>\n",
       "      <td>95.0</td>\n",
       "      <td>15</td>\n",
       "      <td>133</td>\n",
       "      <td>590</td>\n",
       "    </tr>\n",
       "    <tr>\n",
       "      <th>3</th>\n",
       "      <td>Alberta</td>\n",
       "      <td>CABG</td>\n",
       "      <td>2011</td>\n",
       "      <td>95.0</td>\n",
       "      <td>15</td>\n",
       "      <td>134</td>\n",
       "      <td>369</td>\n",
       "    </tr>\n",
       "    <tr>\n",
       "      <th>4</th>\n",
       "      <td>Alberta</td>\n",
       "      <td>Cataract Surgery</td>\n",
       "      <td>2008</td>\n",
       "      <td>71.0</td>\n",
       "      <td>70</td>\n",
       "      <td>199</td>\n",
       "      <td>8662</td>\n",
       "    </tr>\n",
       "  </tbody>\n",
       "</table>\n",
       "</div>"
      ],
      "text/plain": [
       "     state medical_procedure  year  %meeting_benchmark  median_days  \\\n",
       "0  Alberta              CABG  2008                99.0            7   \n",
       "1  Alberta              CABG  2009                93.0           17   \n",
       "2  Alberta              CABG  2010                95.0           15   \n",
       "3  Alberta              CABG  2011                95.0           15   \n",
       "4  Alberta  Cataract Surgery  2008                71.0           70   \n",
       "\n",
       "   maximum_days  total_cases  \n",
       "0            83          511  \n",
       "1           156          665  \n",
       "2           133          590  \n",
       "3           134          369  \n",
       "4           199         8662  "
      ]
     },
     "execution_count": 69,
     "metadata": {},
     "output_type": "execute_result"
    }
   ],
   "source": [
    "df_bm.head()"
   ]
  },
  {
   "cell_type": "code",
   "execution_count": 70,
   "id": "5e9f85aa",
   "metadata": {},
   "outputs": [
    {
     "data": {
      "text/plain": [
       "(1487, 7)"
      ]
     },
     "execution_count": 70,
     "metadata": {},
     "output_type": "execute_result"
    }
   ],
   "source": [
    "#checking for null values\n",
    "df_states.shape"
   ]
  },
  {
   "cell_type": "code",
   "execution_count": 71,
   "id": "90caba07",
   "metadata": {},
   "outputs": [
    {
     "data": {
      "text/plain": [
       "pandas.core.series.Series"
      ]
     },
     "execution_count": 71,
     "metadata": {},
     "output_type": "execute_result"
    }
   ],
   "source": [
    "type(df_states['state'])"
   ]
  },
  {
   "cell_type": "code",
   "execution_count": 72,
   "id": "dd3ff4a1",
   "metadata": {},
   "outputs": [
    {
     "data": {
      "text/plain": [
       "pandas.core.frame.DataFrame"
      ]
     },
     "execution_count": 72,
     "metadata": {},
     "output_type": "execute_result"
    }
   ],
   "source": [
    "type(df_states)"
   ]
  },
  {
   "cell_type": "code",
   "execution_count": 73,
   "id": "f2a0a9c4",
   "metadata": {},
   "outputs": [
    {
     "data": {
      "text/plain": [
       "state                 0\n",
       "medical_procedure     0\n",
       "year                  0\n",
       "%meeting_benchmark    0\n",
       "median_days           0\n",
       "maximum_days          0\n",
       "total_cases           0\n",
       "dtype: int64"
      ]
     },
     "execution_count": 73,
     "metadata": {},
     "output_type": "execute_result"
    }
   ],
   "source": [
    "df_states.isnull().sum()"
   ]
  },
  {
   "cell_type": "code",
   "execution_count": 74,
   "id": "f780c53f",
   "metadata": {},
   "outputs": [],
   "source": [
    "#NO NULL VALUES. WE HAVE ALREADY CLEANED THE DATASET IN THE PREVIOUS TASK6.2"
   ]
  },
  {
   "cell_type": "code",
   "execution_count": 75,
   "id": "1a85baa7",
   "metadata": {},
   "outputs": [
    {
     "data": {
      "text/plain": [
       "(781, 7)"
      ]
     },
     "execution_count": 75,
     "metadata": {},
     "output_type": "execute_result"
    }
   ],
   "source": [
    "# CHECKING FOR df_bm\n",
    "df_bm.shape"
   ]
  },
  {
   "cell_type": "code",
   "execution_count": 76,
   "id": "d2c7541a",
   "metadata": {},
   "outputs": [
    {
     "data": {
      "text/plain": [
       "state                 0\n",
       "medical_procedure     0\n",
       "year                  0\n",
       "%meeting_benchmark    0\n",
       "median_days           0\n",
       "maximum_days          0\n",
       "total_cases           0\n",
       "dtype: int64"
      ]
     },
     "execution_count": 76,
     "metadata": {},
     "output_type": "execute_result"
    }
   ],
   "source": [
    "df_bm.isnull().sum()  # checking for missing values"
   ]
  },
  {
   "cell_type": "markdown",
   "id": "87e054d3",
   "metadata": {},
   "source": [
    "##checking duplicates"
   ]
  },
  {
   "cell_type": "code",
   "execution_count": 77,
   "id": "ecd2cef8",
   "metadata": {},
   "outputs": [],
   "source": [
    "df_dups = df_states[df_states.duplicated()]"
   ]
  },
  {
   "cell_type": "code",
   "execution_count": 78,
   "id": "d4b97901",
   "metadata": {},
   "outputs": [
    {
     "data": {
      "text/plain": [
       "(0, 7)"
      ]
     },
     "execution_count": 78,
     "metadata": {},
     "output_type": "execute_result"
    }
   ],
   "source": [
    "df_dups.shape #no duplicates"
   ]
  },
  {
   "cell_type": "code",
   "execution_count": 79,
   "id": "e8e16f8e",
   "metadata": {},
   "outputs": [],
   "source": [
    "df_dups2 = df_bm[df_bm.duplicated()]"
   ]
  },
  {
   "cell_type": "code",
   "execution_count": 21,
   "id": "665a308f",
   "metadata": {},
   "outputs": [
    {
     "data": {
      "text/plain": [
       "(0, 7)"
      ]
     },
     "execution_count": 21,
     "metadata": {},
     "output_type": "execute_result"
    }
   ],
   "source": [
    "df_dups2.shape #no duplicates"
   ]
  },
  {
   "cell_type": "markdown",
   "id": "c9d81ed6",
   "metadata": {},
   "source": [
    "## Data Cleaning"
   ]
  },
  {
   "cell_type": "code",
   "execution_count": 13,
   "id": "e5bf9cf0",
   "metadata": {},
   "outputs": [
    {
     "data": {
      "text/plain": [
       "<AxesSubplot:xlabel='median_days', ylabel='Count'>"
      ]
     },
     "execution_count": 13,
     "metadata": {},
     "output_type": "execute_result"
    },
    {
     "data": {
      "image/png": "[encoded data removed]",
      "text/plain": [
       "<Figure size 432x288 with 1 Axes>"
      ]
     },
     "metadata": {
      "needs_background": "light"
     },
     "output_type": "display_data"
    }
   ],
   "source": [
    "#Extreme value checks\n",
    "sns.histplot(df_states['median_days'], bins=20, kde = True) # shows extreme values for 'median_days'"
   ]
  },
  {
   "cell_type": "markdown",
   "id": "327f6991",
   "metadata": {},
   "source": [
    "All values are in normal limits"
   ]
  },
  {
   "cell_type": "code",
   "execution_count": 25,
   "id": "bf2fe021",
   "metadata": {},
   "outputs": [
    {
     "data": {
      "text/plain": [
       "<AxesSubplot:xlabel='maximum_days', ylabel='Count'>"
      ]
     },
     "execution_count": 25,
     "metadata": {},
     "output_type": "execute_result"
    },
    {
     "data": {
      "image/png": "[encoded data removed]",
      "text/plain": [
       "<Figure size 432x288 with 1 Axes>"
      ]
     },
     "metadata": {
      "needs_background": "light"
     },
     "output_type": "display_data"
    }
   ],
   "source": [
    "sns.histplot(df_states['maximum_days'],bins = 20, kde = True)"
   ]
  },
  {
   "cell_type": "markdown",
   "id": "f5e615e7",
   "metadata": {},
   "source": [
    "## 4. Plotting chloropleths"
   ]
  },
  {
   "cell_type": "markdown",
   "id": "634a3b25",
   "metadata": {},
   "source": [
    "### 1. For all recorded procedures"
   ]
  },
  {
   "cell_type": "code",
   "execution_count": 80,
   "id": "6598e056",
   "metadata": {},
   "outputs": [
    {
     "data": {
      "text/html": [
       "<div>\n",
       "<style scoped>\n",
       "    .dataframe tbody tr th:only-of-type {\n",
       "        vertical-align: middle;\n",
       "    }\n",
       "\n",
       "    .dataframe tbody tr th {\n",
       "        vertical-align: top;\n",
       "    }\n",
       "\n",
       "    .dataframe thead th {\n",
       "        text-align: right;\n",
       "    }\n",
       "</style>\n",
       "<table border=\"1\" class=\"dataframe\">\n",
       "  <thead>\n",
       "    <tr style=\"text-align: right;\">\n",
       "      <th></th>\n",
       "      <th>state</th>\n",
       "      <th>median_days</th>\n",
       "    </tr>\n",
       "  </thead>\n",
       "  <tbody>\n",
       "    <tr>\n",
       "      <th>0</th>\n",
       "      <td>Alberta</td>\n",
       "      <td>28</td>\n",
       "    </tr>\n",
       "    <tr>\n",
       "      <th>1</th>\n",
       "      <td>Alberta</td>\n",
       "      <td>29</td>\n",
       "    </tr>\n",
       "    <tr>\n",
       "      <th>2</th>\n",
       "      <td>Alberta</td>\n",
       "      <td>28</td>\n",
       "    </tr>\n",
       "    <tr>\n",
       "      <th>3</th>\n",
       "      <td>Alberta</td>\n",
       "      <td>30</td>\n",
       "    </tr>\n",
       "    <tr>\n",
       "      <th>4</th>\n",
       "      <td>Alberta</td>\n",
       "      <td>30</td>\n",
       "    </tr>\n",
       "  </tbody>\n",
       "</table>\n",
       "</div>"
      ],
      "text/plain": [
       "     state  median_days\n",
       "0  Alberta           28\n",
       "1  Alberta           29\n",
       "2  Alberta           28\n",
       "3  Alberta           30\n",
       "4  Alberta           30"
      ]
     },
     "execution_count": 80,
     "metadata": {},
     "output_type": "execute_result"
    }
   ],
   "source": [
    "# Create a data frame with just the states and the values for rating we want plotted\n",
    "\n",
    "data_to_plot = df_states[['state','median_days']]\n",
    "data_to_plot.head()"
   ]
  },
  {
   "cell_type": "code",
   "execution_count": 81,
   "id": "989df5d8",
   "metadata": {},
   "outputs": [
    {
     "name": "stdout",
     "output_type": "stream",
     "text": [
      "<class 'pandas.core.frame.DataFrame'>\n",
      "RangeIndex: 1487 entries, 0 to 1486\n",
      "Data columns (total 2 columns):\n",
      " #   Column       Non-Null Count  Dtype \n",
      "---  ------       --------------  ----- \n",
      " 0   state        1487 non-null   object\n",
      " 1   median_days  1487 non-null   int64 \n",
      "dtypes: int64(1), object(1)\n",
      "memory usage: 23.4+ KB\n"
     ]
    }
   ],
   "source": [
    "data_to_plot.info()"
   ]
  },
  {
   "cell_type": "code",
   "execution_count": 84,
   "id": "1f3b35d4",
   "metadata": {},
   "outputs": [
    {
     "ename": "AttributeError",
     "evalue": "'NoneType' object has no attribute 'get'",
     "output_type": "error",
     "traceback": [
      "\u001b[1;31m---------------------------------------------------------------------------\u001b[0m",
      "\u001b[1;31mAttributeError\u001b[0m                            Traceback (most recent call last)",
      "Input \u001b[1;32mIn [84]\u001b[0m, in \u001b[0;36m<cell line: 5>\u001b[1;34m()\u001b[0m\n\u001b[0;32m      2\u001b[0m \u001b[38;5;28mmap\u001b[39m \u001b[38;5;241m=\u001b[39m folium\u001b[38;5;241m.\u001b[39mMap(location \u001b[38;5;241m=\u001b[39m [\u001b[38;5;241m100\u001b[39m, \u001b[38;5;241m0\u001b[39m], zoom_start \u001b[38;5;241m=\u001b[39m \u001b[38;5;241m1.5\u001b[39m)\n\u001b[0;32m      4\u001b[0m \u001b[38;5;66;03m# Choropleth maps bind Pandas Data Frames and json geometries.This allows us to quickly visualize data combinations\u001b[39;00m\n\u001b[1;32m----> 5\u001b[0m \u001b[43mfolium\u001b[49m\u001b[38;5;241;43m.\u001b[39;49m\u001b[43mChoropleth\u001b[49m\u001b[43m(\u001b[49m\n\u001b[0;32m      6\u001b[0m \u001b[43m    \u001b[49m\u001b[43mgeo_data\u001b[49m\u001b[43m \u001b[49m\u001b[38;5;241;43m=\u001b[39;49m\u001b[43m \u001b[49m\u001b[43mcanada_geo\u001b[49m\u001b[43m,\u001b[49m\u001b[43m \u001b[49m\n\u001b[0;32m      7\u001b[0m \u001b[43m    \u001b[49m\u001b[43mdata\u001b[49m\u001b[43m \u001b[49m\u001b[38;5;241;43m=\u001b[39;49m\u001b[43m \u001b[49m\u001b[43mdata_to_plot\u001b[49m\u001b[43m,\u001b[49m\n\u001b[0;32m      8\u001b[0m \u001b[43m    \u001b[49m\u001b[43mcolumns\u001b[49m\u001b[43m \u001b[49m\u001b[38;5;241;43m=\u001b[39;49m\u001b[43m \u001b[49m\u001b[43m[\u001b[49m\u001b[38;5;124;43m'\u001b[39;49m\u001b[38;5;124;43mstate\u001b[39;49m\u001b[38;5;124;43m'\u001b[39;49m\u001b[43m,\u001b[49m\u001b[43m \u001b[49m\u001b[38;5;124;43m'\u001b[39;49m\u001b[38;5;124;43mmedian_days\u001b[39;49m\u001b[38;5;124;43m'\u001b[39;49m\u001b[43m]\u001b[49m\u001b[43m,\u001b[49m\n\u001b[0;32m      9\u001b[0m \u001b[43m    \u001b[49m\u001b[43mkey_on\u001b[49m\u001b[43m \u001b[49m\u001b[38;5;241;43m=\u001b[39;49m\u001b[43m \u001b[49m\u001b[38;5;124;43m'\u001b[39;49m\u001b[38;5;124;43mFEATURES.PROPERTIES.NAME\u001b[39;49m\u001b[38;5;124;43m'\u001b[39;49m\u001b[43m,\u001b[49m\u001b[43m \u001b[49m\u001b[38;5;66;43;03m# this part is very important - check your json file to see where the KEY is located\u001b[39;49;00m\n\u001b[0;32m     10\u001b[0m \u001b[43m    \u001b[49m\u001b[43mfill_color\u001b[49m\u001b[43m \u001b[49m\u001b[38;5;241;43m=\u001b[39;49m\u001b[43m \u001b[49m\u001b[38;5;124;43m'\u001b[39;49m\u001b[38;5;124;43mYlOrBr\u001b[39;49m\u001b[38;5;124;43m'\u001b[39;49m\u001b[43m,\u001b[49m\u001b[43m \u001b[49m\u001b[43mfill_opacity\u001b[49m\u001b[38;5;241;43m=\u001b[39;49m\u001b[38;5;241;43m0.6\u001b[39;49m\u001b[43m,\u001b[49m\u001b[43m \u001b[49m\u001b[43mline_opacity\u001b[49m\u001b[38;5;241;43m=\u001b[39;49m\u001b[38;5;241;43m0.1\u001b[39;49m\u001b[43m,\u001b[49m\n\u001b[0;32m     11\u001b[0m \u001b[43m    \u001b[49m\u001b[43mlegend_name\u001b[49m\u001b[43m \u001b[49m\u001b[38;5;241;43m=\u001b[39;49m\u001b[43m \u001b[49m\u001b[38;5;124;43m\"\u001b[39;49m\u001b[38;5;124;43mmedian_waiting_days\u001b[39;49m\u001b[38;5;124;43m\"\u001b[39;49m\u001b[43m)\u001b[49m\u001b[38;5;241m.\u001b[39madd_to(\u001b[38;5;28mmap\u001b[39m)\n\u001b[0;32m     12\u001b[0m folium\u001b[38;5;241m.\u001b[39mLayerControl()\u001b[38;5;241m.\u001b[39madd_to(\u001b[38;5;28mmap\u001b[39m)\n\u001b[0;32m     14\u001b[0m \u001b[38;5;28mmap\u001b[39m\n",
      "File \u001b[1;32m~\\anaconda3\\lib\\site-packages\\folium\\features.py:1289\u001b[0m, in \u001b[0;36mChoropleth.__init__\u001b[1;34m(self, geo_data, data, columns, key_on, bins, fill_color, nan_fill_color, fill_opacity, nan_fill_opacity, line_color, line_weight, line_opacity, name, legend_name, overlay, control, show, topojson, smooth_factor, highlight, **kwargs)\u001b[0m\n\u001b[0;32m   1283\u001b[0m     \u001b[38;5;28mself\u001b[39m\u001b[38;5;241m.\u001b[39mgeojson \u001b[38;5;241m=\u001b[39m TopoJson(\n\u001b[0;32m   1284\u001b[0m         geo_data,\n\u001b[0;32m   1285\u001b[0m         topojson,\n\u001b[0;32m   1286\u001b[0m         style_function\u001b[38;5;241m=\u001b[39mstyle_function,\n\u001b[0;32m   1287\u001b[0m         smooth_factor\u001b[38;5;241m=\u001b[39msmooth_factor)\n\u001b[0;32m   1288\u001b[0m \u001b[38;5;28;01melse\u001b[39;00m:\n\u001b[1;32m-> 1289\u001b[0m     \u001b[38;5;28mself\u001b[39m\u001b[38;5;241m.\u001b[39mgeojson \u001b[38;5;241m=\u001b[39m \u001b[43mGeoJson\u001b[49m\u001b[43m(\u001b[49m\n\u001b[0;32m   1290\u001b[0m \u001b[43m        \u001b[49m\u001b[43mgeo_data\u001b[49m\u001b[43m,\u001b[49m\n\u001b[0;32m   1291\u001b[0m \u001b[43m        \u001b[49m\u001b[43mstyle_function\u001b[49m\u001b[38;5;241;43m=\u001b[39;49m\u001b[43mstyle_function\u001b[49m\u001b[43m,\u001b[49m\n\u001b[0;32m   1292\u001b[0m \u001b[43m        \u001b[49m\u001b[43msmooth_factor\u001b[49m\u001b[38;5;241;43m=\u001b[39;49m\u001b[43msmooth_factor\u001b[49m\u001b[43m,\u001b[49m\n\u001b[0;32m   1293\u001b[0m \u001b[43m        \u001b[49m\u001b[43mhighlight_function\u001b[49m\u001b[38;5;241;43m=\u001b[39;49m\u001b[43mhighlight_function\u001b[49m\u001b[43m \u001b[49m\u001b[38;5;28;43;01mif\u001b[39;49;00m\u001b[43m \u001b[49m\u001b[43mhighlight\u001b[49m\u001b[43m \u001b[49m\u001b[38;5;28;43;01melse\u001b[39;49;00m\u001b[43m \u001b[49m\u001b[38;5;28;43;01mNone\u001b[39;49;00m\u001b[43m)\u001b[49m\n\u001b[0;32m   1295\u001b[0m \u001b[38;5;28mself\u001b[39m\u001b[38;5;241m.\u001b[39madd_child(\u001b[38;5;28mself\u001b[39m\u001b[38;5;241m.\u001b[39mgeojson)\n\u001b[0;32m   1296\u001b[0m \u001b[38;5;28;01mif\u001b[39;00m \u001b[38;5;28mself\u001b[39m\u001b[38;5;241m.\u001b[39mcolor_scale:\n",
      "File \u001b[1;32m~\\anaconda3\\lib\\site-packages\\folium\\features.py:504\u001b[0m, in \u001b[0;36mGeoJson.__init__\u001b[1;34m(self, data, style_function, highlight_function, name, overlay, control, show, smooth_factor, tooltip, embed, popup, zoom_on_click, marker)\u001b[0m\n\u001b[0;32m    502\u001b[0m \u001b[38;5;28mself\u001b[39m\u001b[38;5;241m.\u001b[39mconvert_to_feature_collection()\n\u001b[0;32m    503\u001b[0m \u001b[38;5;28;01mif\u001b[39;00m \u001b[38;5;28mself\u001b[39m\u001b[38;5;241m.\u001b[39mstyle:\n\u001b[1;32m--> 504\u001b[0m     \u001b[38;5;28;43mself\u001b[39;49m\u001b[38;5;241;43m.\u001b[39;49m\u001b[43m_validate_function\u001b[49m\u001b[43m(\u001b[49m\u001b[43mstyle_function\u001b[49m\u001b[43m,\u001b[49m\u001b[43m \u001b[49m\u001b[38;5;124;43m'\u001b[39;49m\u001b[38;5;124;43mstyle_function\u001b[39;49m\u001b[38;5;124;43m'\u001b[39;49m\u001b[43m)\u001b[49m\n\u001b[0;32m    505\u001b[0m     \u001b[38;5;28mself\u001b[39m\u001b[38;5;241m.\u001b[39mstyle_function \u001b[38;5;241m=\u001b[39m style_function\n\u001b[0;32m    506\u001b[0m     \u001b[38;5;28mself\u001b[39m\u001b[38;5;241m.\u001b[39mstyle_map \u001b[38;5;241m=\u001b[39m {}\n",
      "File \u001b[1;32m~\\anaconda3\\lib\\site-packages\\folium\\features.py:569\u001b[0m, in \u001b[0;36mGeoJson._validate_function\u001b[1;34m(self, func, name)\u001b[0m\n\u001b[0;32m    564\u001b[0m \u001b[38;5;124;03m\"\"\"\u001b[39;00m\n\u001b[0;32m    565\u001b[0m \u001b[38;5;124;03mTests `self.style_function` and `self.highlight_function` to ensure\u001b[39;00m\n\u001b[0;32m    566\u001b[0m \u001b[38;5;124;03mthey are functions returning dictionaries.\u001b[39;00m\n\u001b[0;32m    567\u001b[0m \u001b[38;5;124;03m\"\"\"\u001b[39;00m\n\u001b[0;32m    568\u001b[0m test_feature \u001b[38;5;241m=\u001b[39m \u001b[38;5;28mself\u001b[39m\u001b[38;5;241m.\u001b[39mdata[\u001b[38;5;124m'\u001b[39m\u001b[38;5;124mfeatures\u001b[39m\u001b[38;5;124m'\u001b[39m][\u001b[38;5;241m0\u001b[39m]\n\u001b[1;32m--> 569\u001b[0m \u001b[38;5;28;01mif\u001b[39;00m \u001b[38;5;129;01mnot\u001b[39;00m callable(func) \u001b[38;5;129;01mor\u001b[39;00m \u001b[38;5;129;01mnot\u001b[39;00m \u001b[38;5;28misinstance\u001b[39m(\u001b[43mfunc\u001b[49m\u001b[43m(\u001b[49m\u001b[43mtest_feature\u001b[49m\u001b[43m)\u001b[49m, \u001b[38;5;28mdict\u001b[39m):\n\u001b[0;32m    570\u001b[0m     \u001b[38;5;28;01mraise\u001b[39;00m \u001b[38;5;167;01mValueError\u001b[39;00m(\u001b[38;5;124m'\u001b[39m\u001b[38;5;132;01m{}\u001b[39;00m\u001b[38;5;124m should be a function that accepts items from \u001b[39m\u001b[38;5;124m'\u001b[39m\n\u001b[0;32m    571\u001b[0m                      \u001b[38;5;124m'\u001b[39m\u001b[38;5;124mdata[\u001b[39m\u001b[38;5;130;01m\\'\u001b[39;00m\u001b[38;5;124mfeatures\u001b[39m\u001b[38;5;130;01m\\'\u001b[39;00m\u001b[38;5;124m] and returns a dictionary.\u001b[39m\u001b[38;5;124m'\u001b[39m\n\u001b[0;32m    572\u001b[0m                      \u001b[38;5;241m.\u001b[39mformat(name))\n",
      "File \u001b[1;32m~\\anaconda3\\lib\\site-packages\\folium\\features.py:1267\u001b[0m, in \u001b[0;36mChoropleth.__init__.<locals>.style_function\u001b[1;34m(x)\u001b[0m\n\u001b[0;32m   1266\u001b[0m \u001b[38;5;28;01mdef\u001b[39;00m \u001b[38;5;21mstyle_function\u001b[39m(x):\n\u001b[1;32m-> 1267\u001b[0m     color, opacity \u001b[38;5;241m=\u001b[39m \u001b[43mcolor_scale_fun\u001b[49m\u001b[43m(\u001b[49m\u001b[43mx\u001b[49m\u001b[43m)\u001b[49m\n\u001b[0;32m   1268\u001b[0m     \u001b[38;5;28;01mreturn\u001b[39;00m {\n\u001b[0;32m   1269\u001b[0m         \u001b[38;5;124m'\u001b[39m\u001b[38;5;124mweight\u001b[39m\u001b[38;5;124m'\u001b[39m: line_weight,\n\u001b[0;32m   1270\u001b[0m         \u001b[38;5;124m'\u001b[39m\u001b[38;5;124mopacity\u001b[39m\u001b[38;5;124m'\u001b[39m: line_opacity,\n\u001b[1;32m   (...)\u001b[0m\n\u001b[0;32m   1273\u001b[0m         \u001b[38;5;124m'\u001b[39m\u001b[38;5;124mfillColor\u001b[39m\u001b[38;5;124m'\u001b[39m: color\n\u001b[0;32m   1274\u001b[0m     }\n",
      "File \u001b[1;32m~\\anaconda3\\lib\\site-packages\\folium\\features.py:1248\u001b[0m, in \u001b[0;36mChoropleth.__init__.<locals>.color_scale_fun\u001b[1;34m(x)\u001b[0m\n\u001b[0;32m   1247\u001b[0m \u001b[38;5;28;01mdef\u001b[39;00m \u001b[38;5;21mcolor_scale_fun\u001b[39m(x):\n\u001b[1;32m-> 1248\u001b[0m     key_of_x \u001b[38;5;241m=\u001b[39m \u001b[43mget_by_key\u001b[49m\u001b[43m(\u001b[49m\u001b[43mx\u001b[49m\u001b[43m,\u001b[49m\u001b[43m \u001b[49m\u001b[43mkey_on\u001b[49m\u001b[43m)\u001b[49m\n\u001b[0;32m   1249\u001b[0m     \u001b[38;5;28;01mif\u001b[39;00m key_of_x \u001b[38;5;129;01mis\u001b[39;00m \u001b[38;5;28;01mNone\u001b[39;00m:\n\u001b[0;32m   1250\u001b[0m         \u001b[38;5;28;01mraise\u001b[39;00m \u001b[38;5;167;01mValueError\u001b[39;00m(\u001b[38;5;124m\"\u001b[39m\u001b[38;5;124mkey_on `\u001b[39m\u001b[38;5;132;01m{!r}\u001b[39;00m\u001b[38;5;124m` not found in GeoJSON.\u001b[39m\u001b[38;5;124m\"\u001b[39m\u001b[38;5;241m.\u001b[39mformat(key_on))\n",
      "File \u001b[1;32m~\\anaconda3\\lib\\site-packages\\folium\\features.py:1244\u001b[0m, in \u001b[0;36mChoropleth.__init__.<locals>.get_by_key\u001b[1;34m(obj, key)\u001b[0m\n\u001b[0;32m   1242\u001b[0m \u001b[38;5;28;01mdef\u001b[39;00m \u001b[38;5;21mget_by_key\u001b[39m(obj, key):\n\u001b[0;32m   1243\u001b[0m     \u001b[38;5;28;01mreturn\u001b[39;00m (obj\u001b[38;5;241m.\u001b[39mget(key, \u001b[38;5;28;01mNone\u001b[39;00m) \u001b[38;5;28;01mif\u001b[39;00m \u001b[38;5;28mlen\u001b[39m(key\u001b[38;5;241m.\u001b[39msplit(\u001b[38;5;124m'\u001b[39m\u001b[38;5;124m.\u001b[39m\u001b[38;5;124m'\u001b[39m)) \u001b[38;5;241m<\u001b[39m\u001b[38;5;241m=\u001b[39m \u001b[38;5;241m1\u001b[39m \u001b[38;5;28;01melse\u001b[39;00m\n\u001b[1;32m-> 1244\u001b[0m             \u001b[43mget_by_key\u001b[49m\u001b[43m(\u001b[49m\u001b[43mobj\u001b[49m\u001b[38;5;241;43m.\u001b[39;49m\u001b[43mget\u001b[49m\u001b[43m(\u001b[49m\u001b[43mkey\u001b[49m\u001b[38;5;241;43m.\u001b[39;49m\u001b[43msplit\u001b[49m\u001b[43m(\u001b[49m\u001b[38;5;124;43m'\u001b[39;49m\u001b[38;5;124;43m.\u001b[39;49m\u001b[38;5;124;43m'\u001b[39;49m\u001b[43m)\u001b[49m\u001b[43m[\u001b[49m\u001b[38;5;241;43m0\u001b[39;49m\u001b[43m]\u001b[49m\u001b[43m,\u001b[49m\u001b[43m \u001b[49m\u001b[38;5;28;43;01mNone\u001b[39;49;00m\u001b[43m)\u001b[49m\u001b[43m,\u001b[49m\n\u001b[0;32m   1245\u001b[0m \u001b[43m                       \u001b[49m\u001b[38;5;124;43m'\u001b[39;49m\u001b[38;5;124;43m.\u001b[39;49m\u001b[38;5;124;43m'\u001b[39;49m\u001b[38;5;241;43m.\u001b[39;49m\u001b[43mjoin\u001b[49m\u001b[43m(\u001b[49m\u001b[43mkey\u001b[49m\u001b[38;5;241;43m.\u001b[39;49m\u001b[43msplit\u001b[49m\u001b[43m(\u001b[49m\u001b[38;5;124;43m'\u001b[39;49m\u001b[38;5;124;43m.\u001b[39;49m\u001b[38;5;124;43m'\u001b[39;49m\u001b[43m)\u001b[49m\u001b[43m[\u001b[49m\u001b[38;5;241;43m1\u001b[39;49m\u001b[43m:\u001b[49m\u001b[43m]\u001b[49m\u001b[43m)\u001b[49m\u001b[43m)\u001b[49m)\n",
      "File \u001b[1;32m~\\anaconda3\\lib\\site-packages\\folium\\features.py:1244\u001b[0m, in \u001b[0;36mChoropleth.__init__.<locals>.get_by_key\u001b[1;34m(obj, key)\u001b[0m\n\u001b[0;32m   1242\u001b[0m \u001b[38;5;28;01mdef\u001b[39;00m \u001b[38;5;21mget_by_key\u001b[39m(obj, key):\n\u001b[0;32m   1243\u001b[0m     \u001b[38;5;28;01mreturn\u001b[39;00m (obj\u001b[38;5;241m.\u001b[39mget(key, \u001b[38;5;28;01mNone\u001b[39;00m) \u001b[38;5;28;01mif\u001b[39;00m \u001b[38;5;28mlen\u001b[39m(key\u001b[38;5;241m.\u001b[39msplit(\u001b[38;5;124m'\u001b[39m\u001b[38;5;124m.\u001b[39m\u001b[38;5;124m'\u001b[39m)) \u001b[38;5;241m<\u001b[39m\u001b[38;5;241m=\u001b[39m \u001b[38;5;241m1\u001b[39m \u001b[38;5;28;01melse\u001b[39;00m\n\u001b[1;32m-> 1244\u001b[0m             get_by_key(\u001b[43mobj\u001b[49m\u001b[38;5;241;43m.\u001b[39;49m\u001b[43mget\u001b[49m(key\u001b[38;5;241m.\u001b[39msplit(\u001b[38;5;124m'\u001b[39m\u001b[38;5;124m.\u001b[39m\u001b[38;5;124m'\u001b[39m)[\u001b[38;5;241m0\u001b[39m], \u001b[38;5;28;01mNone\u001b[39;00m),\n\u001b[0;32m   1245\u001b[0m                        \u001b[38;5;124m'\u001b[39m\u001b[38;5;124m.\u001b[39m\u001b[38;5;124m'\u001b[39m\u001b[38;5;241m.\u001b[39mjoin(key\u001b[38;5;241m.\u001b[39msplit(\u001b[38;5;124m'\u001b[39m\u001b[38;5;124m.\u001b[39m\u001b[38;5;124m'\u001b[39m)[\u001b[38;5;241m1\u001b[39m:])))\n",
      "\u001b[1;31mAttributeError\u001b[0m: 'NoneType' object has no attribute 'get'"
     ]
    }
   ],
   "source": [
    "# Setup a folium map at a high-level zoom\n",
    "map = folium.Map(location = [100, 0], zoom_start = 1.5)\n",
    "\n",
    "# Choropleth maps bind Pandas Data Frames and json geometries.This allows us to quickly visualize data combinations\n",
    "folium.Choropleth(\n",
    "    geo_data = canada_geo, \n",
    "    data = data_to_plot,\n",
    "    columns = ['state', 'median_days'],\n",
    "    key_on = 'FEATURES.PROPERTIES.NAME', # this part is very important - check your json file to see where the KEY is located\n",
    "    fill_color = 'YlOrBr', fill_opacity=0.6, line_opacity=0.1,\n",
    "    legend_name = \"median_waiting_days\").add_to(map)\n",
    "folium.LayerControl().add_to(map)\n",
    "\n",
    "map\n",
    "\n"
   ]
  },
  {
   "cell_type": "code",
   "execution_count": 24,
   "id": "598df12d",
   "metadata": {},
   "outputs": [
    {
     "data": {
      "text/html": [
       "<div style=\"width:100%;\"><div style=\"position:relative;width:100%;height:0;padding-bottom:60%;\"><span style=\"color:#565656\">Make this Notebook Trusted to load map: File -> Trust Notebook</span><iframe srcdoc=\"&lt;!DOCTYPE html&gt;\n",
       "&lt;head&gt;    \n",
       "    &lt;meta http-equiv=&quot;content-type&quot; content=&quot;text/html; charset=UTF-8&quot; /&gt;\n",
       "    \n",
       "        &lt;script&gt;\n",
       "            L_NO_TOUCH = false;\n",
       "            L_DISABLE_3D = false;\n",
       "        &lt;/script&gt;\n",
       "    \n",
       "    &lt;style&gt;html, body {width: 100%;height: 100%;margin: 0;padding: 0;}&lt;/style&gt;\n",
       "    &lt;style&gt;#map {position:absolute;top:0;bottom:0;right:0;left:0;}&lt;/style&gt;\n",
       "    &lt;script src=&quot;https://cdn.jsdelivr.net/npm/leaflet@1.6.0/dist/leaflet.js&quot;&gt;&lt;/script&gt;\n",
       "    &lt;script src=&quot;https://code.jquery.com/jquery-1.12.4.min.js&quot;&gt;&lt;/script&gt;\n",
       "    &lt;script src=&quot;https://maxcdn.bootstrapcdn.com/bootstrap/3.2.0/js/bootstrap.min.js&quot;&gt;&lt;/script&gt;\n",
       "    &lt;script src=&quot;https://cdnjs.cloudflare.com/ajax/libs/Leaflet.awesome-markers/2.0.2/leaflet.awesome-markers.js&quot;&gt;&lt;/script&gt;\n",
       "    &lt;link rel=&quot;stylesheet&quot; href=&quot;https://cdn.jsdelivr.net/npm/leaflet@1.6.0/dist/leaflet.css&quot;/&gt;\n",
       "    &lt;link rel=&quot;stylesheet&quot; href=&quot;https://maxcdn.bootstrapcdn.com/bootstrap/3.2.0/css/bootstrap.min.css&quot;/&gt;\n",
       "    &lt;link rel=&quot;stylesheet&quot; href=&quot;https://maxcdn.bootstrapcdn.com/bootstrap/3.2.0/css/bootstrap-theme.min.css&quot;/&gt;\n",
       "    &lt;link rel=&quot;stylesheet&quot; href=&quot;https://maxcdn.bootstrapcdn.com/font-awesome/4.6.3/css/font-awesome.min.css&quot;/&gt;\n",
       "    &lt;link rel=&quot;stylesheet&quot; href=&quot;https://cdnjs.cloudflare.com/ajax/libs/Leaflet.awesome-markers/2.0.2/leaflet.awesome-markers.css&quot;/&gt;\n",
       "    &lt;link rel=&quot;stylesheet&quot; href=&quot;https://cdn.jsdelivr.net/gh/python-visualization/folium/folium/templates/leaflet.awesome.rotate.min.css&quot;/&gt;\n",
       "    \n",
       "            &lt;meta name=&quot;viewport&quot; content=&quot;width=device-width,\n",
       "                initial-scale=1.0, maximum-scale=1.0, user-scalable=no&quot; /&gt;\n",
       "            &lt;style&gt;\n",
       "                #map_ce655094e33a5f5455cb8abace1f586b {\n",
       "                    position: relative;\n",
       "                    width: 100.0%;\n",
       "                    height: 100.0%;\n",
       "                    left: 0.0%;\n",
       "                    top: 0.0%;\n",
       "                }\n",
       "            &lt;/style&gt;\n",
       "        \n",
       "&lt;/head&gt;\n",
       "&lt;body&gt;    \n",
       "    \n",
       "            &lt;div class=&quot;folium-map&quot; id=&quot;map_ce655094e33a5f5455cb8abace1f586b&quot; &gt;&lt;/div&gt;\n",
       "        \n",
       "&lt;/body&gt;\n",
       "&lt;script&gt;    \n",
       "    \n",
       "            var map_ce655094e33a5f5455cb8abace1f586b = L.map(\n",
       "                &quot;map_ce655094e33a5f5455cb8abace1f586b&quot;,\n",
       "                {\n",
       "                    center: [100.0, 0.0],\n",
       "                    crs: L.CRS.EPSG3857,\n",
       "                    zoom: 1.5,\n",
       "                    zoomControl: true,\n",
       "                    preferCanvas: false,\n",
       "                }\n",
       "            );\n",
       "\n",
       "            \n",
       "\n",
       "        \n",
       "    \n",
       "            var tile_layer_b03aaf9b1dc2a8f0f49a367ada7db3a2 = L.tileLayer(\n",
       "                &quot;https://{s}.tile.openstreetmap.org/{z}/{x}/{y}.png&quot;,\n",
       "                {&quot;attribution&quot;: &quot;Data by \\u0026copy; \\u003ca href=\\&quot;http://openstreetmap.org\\&quot;\\u003eOpenStreetMap\\u003c/a\\u003e, under \\u003ca href=\\&quot;http://www.openstreetmap.org/copyright\\&quot;\\u003eODbL\\u003c/a\\u003e.&quot;, &quot;detectRetina&quot;: false, &quot;maxNativeZoom&quot;: 18, &quot;maxZoom&quot;: 18, &quot;minZoom&quot;: 0, &quot;noWrap&quot;: false, &quot;opacity&quot;: 1, &quot;subdomains&quot;: &quot;abc&quot;, &quot;tms&quot;: false}\n",
       "            ).addTo(map_ce655094e33a5f5455cb8abace1f586b);\n",
       "        \n",
       "&lt;/script&gt;\" style=\"position:absolute;width:100%;height:100%;left:0;top:0;border:none !important;\" allowfullscreen webkitallowfullscreen mozallowfullscreen></iframe></div></div>"
      ],
      "text/plain": [
       "<folium.folium.Map at 0x177eb98b6d0>"
      ]
     },
     "execution_count": 24,
     "metadata": {},
     "output_type": "execute_result"
    }
   ],
   "source": [
    "map"
   ]
  },
  {
   "cell_type": "code",
   "execution_count": null,
   "id": "e3894d7f",
   "metadata": {},
   "outputs": [],
   "source": [
    "## :((( I am tired :). Can you also make some search and see why this error happens, I have met this error before, but do not remrember how I \n",
    "solved :( \n",
    "    \n",
    "   #I am also working on i for the last 3 days. Tired finally I started the task6.4 because I have to finish the course. is there any other way out\n",
    "# because 22nd july is the last day of the course..\n",
    "    # Tableau is very good as compared to python as far as maps are concerned. your comments :)\n",
    "    \n",
    "#yes, folium is a bit error - changes per computer. I suggest you to continue with your next tasks and also ask abut this in \n",
    "    #the slack channel, maybe recenly someone has had same 'get' problem as in our case. I will also make a search. I think time will\n",
    "    #help to find a solution. \n",
    "    \n",
    "    #ok? \n",
    "    \n",
    "    # sure, shall I submit this task as it is and move forwards. and in the mean time I shall look for the solution.\n",
    "    \n",
    "    #no need to submit this one, continue with others, you can submit as soon as we have a solution. \n",
    "    #ok. Fine. what if it is not submitted before the last date i.e 22 july as it is showing on my portal. \n",
    "    \n",
    "    # do not worry, we will find solution by then. \n",
    "    \n",
    "    # That would be great. \n",
    "    # send me the last json , jupyter notebook and your dataset via message bar. \n",
    "    \n",
    "    # sure i will\n",
    "    \n",
    "    # i am leaving now. I \n",
    "    et you know\n",
    "    \n",
    "    # thank you for your help. you took a lot of effort. thanks a lot.:)\n",
    "    \n",
    "    #wlcone :) , thanks"
   ]
  }
 ],
 "metadata": {
  "kernelspec": {
   "display_name": "Python 3 (ipykernel)",
   "language": "python",
   "name": "python3"
  },
  "language_info": {
   "codemirror_mode": {
    "name": "ipython",
    "version": 3
   },
   "file_extension": ".py",
   "mimetype": "text/x-python",
   "name": "python",
   "nbconvert_exporter": "python",
   "pygments_lexer": "ipython3",
   "version": "3.9.12"
  }
 },
 "nbformat": 4,
 "nbformat_minor": 5
}
