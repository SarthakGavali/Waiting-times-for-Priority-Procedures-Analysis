{
 "cells": [
  {
   "cell_type": "code",
   "execution_count": 1,
   "id": "c3d0bac4",
   "metadata": {},
   "outputs": [],
   "source": [
    "import pandas as pd\n",
    "import numpy as np\n",
    "import os"
   ]
  },
  {
   "cell_type": "code",
   "execution_count": 2,
   "id": "97f6813e",
   "metadata": {},
   "outputs": [],
   "source": [
    "path = r'C:\\Users\\user\\Waiting times for priority procedures'"
   ]
  },
  {
   "cell_type": "code",
   "execution_count": 3,
   "id": "d195ae5a",
   "metadata": {},
   "outputs": [
    {
     "data": {
      "text/plain": [
       "'C:\\\\Users\\\\user\\\\Waiting times for priority procedures'"
      ]
     },
     "execution_count": 3,
     "metadata": {},
     "output_type": "execute_result"
    }
   ],
   "source": [
    "path"
   ]
  },
  {
   "cell_type": "code",
   "execution_count": 4,
   "id": "521beb80",
   "metadata": {},
   "outputs": [],
   "source": [
    "vars_list = ['Province/territory','Indicator','Metric','Data year','Indicator result']"
   ]
  },
  {
   "cell_type": "code",
   "execution_count": 5,
   "id": "5fe6d7f5",
   "metadata": {},
   "outputs": [],
   "source": [
    "wait_time = pd.read_csv(os.path.join(path, '1.Data','Original Data','wait_time_pr_procedures.csv'), usecols = vars_list )\n"
   ]
  },
  {
   "cell_type": "code",
   "execution_count": 6,
   "id": "b02b88f3",
   "metadata": {},
   "outputs": [
    {
     "data": {
      "text/html": [
       "<div>\n",
       "<style scoped>\n",
       "    .dataframe tbody tr th:only-of-type {\n",
       "        vertical-align: middle;\n",
       "    }\n",
       "\n",
       "    .dataframe tbody tr th {\n",
       "        vertical-align: top;\n",
       "    }\n",
       "\n",
       "    .dataframe thead th {\n",
       "        text-align: right;\n",
       "    }\n",
       "</style>\n",
       "<table border=\"1\" class=\"dataframe\">\n",
       "  <thead>\n",
       "    <tr style=\"text-align: right;\">\n",
       "      <th></th>\n",
       "      <th>Province/territory</th>\n",
       "      <th>Indicator</th>\n",
       "      <th>Metric</th>\n",
       "      <th>Data year</th>\n",
       "      <th>Indicator result</th>\n",
       "    </tr>\n",
       "  </thead>\n",
       "  <tbody>\n",
       "    <tr>\n",
       "      <th>0</th>\n",
       "      <td>Alberta</td>\n",
       "      <td>CABG</td>\n",
       "      <td>% meeting benchmark</td>\n",
       "      <td>2008</td>\n",
       "      <td>99.0</td>\n",
       "    </tr>\n",
       "    <tr>\n",
       "      <th>1</th>\n",
       "      <td>Alberta</td>\n",
       "      <td>CABG</td>\n",
       "      <td>50th percentile</td>\n",
       "      <td>2008</td>\n",
       "      <td>7.0</td>\n",
       "    </tr>\n",
       "    <tr>\n",
       "      <th>2</th>\n",
       "      <td>Alberta</td>\n",
       "      <td>CABG</td>\n",
       "      <td>90th percentile</td>\n",
       "      <td>2008</td>\n",
       "      <td>83.0</td>\n",
       "    </tr>\n",
       "    <tr>\n",
       "      <th>3</th>\n",
       "      <td>Alberta</td>\n",
       "      <td>Hip Replacement</td>\n",
       "      <td>% meeting benchmark</td>\n",
       "      <td>2008</td>\n",
       "      <td>77.0</td>\n",
       "    </tr>\n",
       "    <tr>\n",
       "      <th>4</th>\n",
       "      <td>Alberta</td>\n",
       "      <td>Hip Replacement</td>\n",
       "      <td>50th percentile</td>\n",
       "      <td>2008</td>\n",
       "      <td>103.0</td>\n",
       "    </tr>\n",
       "  </tbody>\n",
       "</table>\n",
       "</div>"
      ],
      "text/plain": [
       "  Province/territory        Indicator               Metric  Data year  \\\n",
       "0            Alberta             CABG  % meeting benchmark       2008   \n",
       "1            Alberta             CABG      50th percentile       2008   \n",
       "2            Alberta             CABG      90th percentile       2008   \n",
       "3            Alberta  Hip Replacement  % meeting benchmark       2008   \n",
       "4            Alberta  Hip Replacement      50th percentile       2008   \n",
       "\n",
       "   Indicator result  \n",
       "0              99.0  \n",
       "1               7.0  \n",
       "2              83.0  \n",
       "3              77.0  \n",
       "4             103.0  "
      ]
     },
     "execution_count": 6,
     "metadata": {},
     "output_type": "execute_result"
    }
   ],
   "source": [
    "#checking the column heads\n",
    "wait_time.head()"
   ]
  },
  {
   "cell_type": "code",
   "execution_count": 7,
   "id": "7f55bc06",
   "metadata": {},
   "outputs": [
    {
     "name": "stdout",
     "output_type": "stream",
     "text": [
      "<class 'pandas.core.frame.DataFrame'>\n",
      "RangeIndex: 5328 entries, 0 to 5327\n",
      "Data columns (total 5 columns):\n",
      " #   Column              Non-Null Count  Dtype  \n",
      "---  ------              --------------  -----  \n",
      " 0   Province/territory  5328 non-null   object \n",
      " 1   Indicator           5328 non-null   object \n",
      " 2   Metric              5328 non-null   object \n",
      " 3   Data year           5328 non-null   int64  \n",
      " 4   Indicator result    5328 non-null   float64\n",
      "dtypes: float64(1), int64(1), object(3)\n",
      "memory usage: 208.2+ KB\n"
     ]
    }
   ],
   "source": [
    "wait_time.info()"
   ]
  },
  {
   "cell_type": "code",
   "execution_count": 9,
   "id": "73a3e919",
   "metadata": {},
   "outputs": [],
   "source": [
    "#changing datatype to reduce memory usage\n",
    "wait_time['Data year'] = wait_time['Data year'].astype('int16')"
   ]
  },
  {
   "cell_type": "code",
   "execution_count": 10,
   "id": "fec99eef",
   "metadata": {},
   "outputs": [
    {
     "name": "stdout",
     "output_type": "stream",
     "text": [
      "<class 'pandas.core.frame.DataFrame'>\n",
      "RangeIndex: 5328 entries, 0 to 5327\n",
      "Data columns (total 5 columns):\n",
      " #   Column              Non-Null Count  Dtype  \n",
      "---  ------              --------------  -----  \n",
      " 0   Province/territory  5328 non-null   object \n",
      " 1   Indicator           5328 non-null   object \n",
      " 2   Metric              5328 non-null   object \n",
      " 3   Data year           5328 non-null   int16  \n",
      " 4   Indicator result    5328 non-null   float64\n",
      "dtypes: float64(1), int16(1), object(3)\n",
      "memory usage: 177.0+ KB\n"
     ]
    }
   ],
   "source": [
    "wait_time.info()"
   ]
  },
  {
   "cell_type": "code",
   "execution_count": 11,
   "id": "17c9551f",
   "metadata": {},
   "outputs": [],
   "source": [
    "#renaming some of the columns\n",
    "wait_time.rename(columns={'Province/territory':'province', 'Indicator':'procedure','Metric':'wait_time_metric','Indicator result':'metric_result'},inplace = True)"
   ]
  },
  {
   "cell_type": "code",
   "execution_count": 12,
   "id": "bb8b6458",
   "metadata": {},
   "outputs": [
    {
     "data": {
      "text/html": [
       "<div>\n",
       "<style scoped>\n",
       "    .dataframe tbody tr th:only-of-type {\n",
       "        vertical-align: middle;\n",
       "    }\n",
       "\n",
       "    .dataframe tbody tr th {\n",
       "        vertical-align: top;\n",
       "    }\n",
       "\n",
       "    .dataframe thead th {\n",
       "        text-align: right;\n",
       "    }\n",
       "</style>\n",
       "<table border=\"1\" class=\"dataframe\">\n",
       "  <thead>\n",
       "    <tr style=\"text-align: right;\">\n",
       "      <th></th>\n",
       "      <th>province</th>\n",
       "      <th>procedure</th>\n",
       "      <th>wait_time_metric</th>\n",
       "      <th>Data year</th>\n",
       "      <th>metric_result</th>\n",
       "    </tr>\n",
       "  </thead>\n",
       "  <tbody>\n",
       "    <tr>\n",
       "      <th>0</th>\n",
       "      <td>Alberta</td>\n",
       "      <td>CABG</td>\n",
       "      <td>% meeting benchmark</td>\n",
       "      <td>2008</td>\n",
       "      <td>99.0</td>\n",
       "    </tr>\n",
       "    <tr>\n",
       "      <th>1</th>\n",
       "      <td>Alberta</td>\n",
       "      <td>CABG</td>\n",
       "      <td>50th percentile</td>\n",
       "      <td>2008</td>\n",
       "      <td>7.0</td>\n",
       "    </tr>\n",
       "    <tr>\n",
       "      <th>2</th>\n",
       "      <td>Alberta</td>\n",
       "      <td>CABG</td>\n",
       "      <td>90th percentile</td>\n",
       "      <td>2008</td>\n",
       "      <td>83.0</td>\n",
       "    </tr>\n",
       "    <tr>\n",
       "      <th>3</th>\n",
       "      <td>Alberta</td>\n",
       "      <td>Hip Replacement</td>\n",
       "      <td>% meeting benchmark</td>\n",
       "      <td>2008</td>\n",
       "      <td>77.0</td>\n",
       "    </tr>\n",
       "    <tr>\n",
       "      <th>4</th>\n",
       "      <td>Alberta</td>\n",
       "      <td>Hip Replacement</td>\n",
       "      <td>50th percentile</td>\n",
       "      <td>2008</td>\n",
       "      <td>103.0</td>\n",
       "    </tr>\n",
       "  </tbody>\n",
       "</table>\n",
       "</div>"
      ],
      "text/plain": [
       "  province        procedure     wait_time_metric  Data year  metric_result\n",
       "0  Alberta             CABG  % meeting benchmark       2008           99.0\n",
       "1  Alberta             CABG      50th percentile       2008            7.0\n",
       "2  Alberta             CABG      90th percentile       2008           83.0\n",
       "3  Alberta  Hip Replacement  % meeting benchmark       2008           77.0\n",
       "4  Alberta  Hip Replacement      50th percentile       2008          103.0"
      ]
     },
     "execution_count": 12,
     "metadata": {},
     "output_type": "execute_result"
    }
   ],
   "source": [
    "#checking the column headers\n",
    "wait_time.head()"
   ]
  },
  {
   "cell_type": "markdown",
   "id": "49733e22",
   "metadata": {},
   "source": [
    "# Check missing values"
   ]
  },
  {
   "cell_type": "code",
   "execution_count": 16,
   "id": "66bdd9d1",
   "metadata": {},
   "outputs": [
    {
     "data": {
      "text/plain": [
       "province            0\n",
       "procedure           0\n",
       "wait_time_metric    0\n",
       "Data year           0\n",
       "metric_result       0\n",
       "dtype: int64"
      ]
     },
     "execution_count": 16,
     "metadata": {},
     "output_type": "execute_result"
    }
   ],
   "source": [
    "#CHECKING FOR MISSING VALUES\n",
    "wait_time.isnull().sum()  #No missing values"
   ]
  },
  {
   "cell_type": "markdown",
   "id": "81b1fc09",
   "metadata": {},
   "source": [
    "# check duplicates"
   ]
  },
  {
   "cell_type": "code",
   "execution_count": 17,
   "id": "90ae3f8d",
   "metadata": {},
   "outputs": [
    {
     "ename": "NameError",
     "evalue": "name 'df' is not defined",
     "output_type": "error",
     "traceback": [
      "\u001b[1;31m---------------------------------------------------------------------------\u001b[0m",
      "\u001b[1;31mNameError\u001b[0m                                 Traceback (most recent call last)",
      "Input \u001b[1;32mIn [17]\u001b[0m, in \u001b[0;36m<cell line: 1>\u001b[1;34m()\u001b[0m\n\u001b[1;32m----> 1\u001b[0m df_dups \u001b[38;5;241m=\u001b[39m \u001b[43mdf\u001b[49m[wait_time\u001b[38;5;241m.\u001b[39mduplicated()]\n",
      "\u001b[1;31mNameError\u001b[0m: name 'df' is not defined"
     ]
    }
   ],
   "source": [
    "df_dups = df[wait_time.duplicated()]"
   ]
  },
  {
   "cell_type": "code",
   "execution_count": 13,
   "id": "32a1ba11",
   "metadata": {},
   "outputs": [],
   "source": [
    "wait_time.to_csv(os.path.join(path, '1.Data','prepared Data','Wait_time_cleaned.csv'))"
   ]
  },
  {
   "cell_type": "code",
   "execution_count": null,
   "id": "dfc0aae9",
   "metadata": {},
   "outputs": [],
   "source": []
  }
 ],
 "metadata": {
  "kernelspec": {
   "display_name": "Python 3 (ipykernel)",
   "language": "python",
   "name": "python3"
  },
  "language_info": {
   "codemirror_mode": {
    "name": "ipython",
    "version": 3
   },
   "file_extension": ".py",
   "mimetype": "text/x-python",
   "name": "python",
   "nbconvert_exporter": "python",
   "pygments_lexer": "ipython3",
   "version": "3.9.12"
  }
 },
 "nbformat": 4,
 "nbformat_minor": 5
}
